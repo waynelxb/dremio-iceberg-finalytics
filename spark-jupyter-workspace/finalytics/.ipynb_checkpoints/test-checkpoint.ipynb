{
 "cells": [
  {
   "cell_type": "code",
   "execution_count": 1,
   "id": "23a5f1db-7679-4268-863f-8ece35c850ff",
   "metadata": {
    "tags": []
   },
   "outputs": [],
   "source": [
    "import yaml"
   ]
  },
  {
   "cell_type": "code",
   "execution_count": 7,
   "id": "f960b484-c683-413a-801a-b26799d8d2d0",
   "metadata": {
    "tags": []
   },
   "outputs": [
    {
     "ename": "KeyError",
     "evalue": "'StringType()'",
     "output_type": "error",
     "traceback": [
      "\u001b[0;31m---------------------------------------------------------------------------\u001b[0m",
      "\u001b[0;31mKeyError\u001b[0m                                  Traceback (most recent call last)",
      "Cell \u001b[0;32mIn[7], line 36\u001b[0m\n\u001b[1;32m     33\u001b[0m config \u001b[38;5;241m=\u001b[39m load_config(\u001b[38;5;124m'\u001b[39m\u001b[38;5;124mschema.yaml\u001b[39m\u001b[38;5;124m'\u001b[39m)\n\u001b[1;32m     35\u001b[0m \u001b[38;5;66;03m# Extract the schema\u001b[39;00m\n\u001b[0;32m---> 36\u001b[0m schema \u001b[38;5;241m=\u001b[39m \u001b[43mcreate_struct_type\u001b[49m\u001b[43m(\u001b[49m\u001b[43mconfig\u001b[49m\u001b[43m[\u001b[49m\u001b[38;5;124;43m'\u001b[39;49m\u001b[38;5;124;43mschema\u001b[39;49m\u001b[38;5;124;43m'\u001b[39;49m\u001b[43m]\u001b[49m\u001b[43m)\u001b[49m\n\u001b[1;32m     38\u001b[0m \u001b[38;5;66;03m# Example data to match the schema\u001b[39;00m\n\u001b[1;32m     39\u001b[0m data \u001b[38;5;241m=\u001b[39m [\n\u001b[1;32m     40\u001b[0m     (\u001b[38;5;124m\"\u001b[39m\u001b[38;5;124m2024-12-01\u001b[39m\u001b[38;5;124m\"\u001b[39m, \u001b[38;5;241m100.5\u001b[39m, \u001b[38;5;241m105.3\u001b[39m, \u001b[38;5;241m5000\u001b[39m),\n\u001b[1;32m     41\u001b[0m     (\u001b[38;5;124m\"\u001b[39m\u001b[38;5;124m2024-12-02\u001b[39m\u001b[38;5;124m\"\u001b[39m, \u001b[38;5;241m101.2\u001b[39m, \u001b[38;5;241m106.4\u001b[39m, \u001b[38;5;241m6000\u001b[39m),\n\u001b[1;32m     42\u001b[0m     (\u001b[38;5;124m\"\u001b[39m\u001b[38;5;124m2024-12-03\u001b[39m\u001b[38;5;124m\"\u001b[39m, \u001b[38;5;241m102.3\u001b[39m, \u001b[38;5;241m107.1\u001b[39m, \u001b[38;5;241m7000\u001b[39m)\n\u001b[1;32m     43\u001b[0m ]\n",
      "Cell \u001b[0;32mIn[7], line 19\u001b[0m, in \u001b[0;36mcreate_struct_type\u001b[0;34m(schema_config)\u001b[0m\n\u001b[1;32m     18\u001b[0m \u001b[38;5;28;01mdef\u001b[39;00m \u001b[38;5;21mcreate_struct_type\u001b[39m(schema_config):\n\u001b[0;32m---> 19\u001b[0m     fields \u001b[38;5;241m=\u001b[39m [\n\u001b[1;32m     20\u001b[0m         StructField(field[\u001b[38;5;124m\"\u001b[39m\u001b[38;5;124mname\u001b[39m\u001b[38;5;124m\"\u001b[39m], type_mapping[field[\u001b[38;5;124m\"\u001b[39m\u001b[38;5;124mtype\u001b[39m\u001b[38;5;124m\"\u001b[39m]], field[\u001b[38;5;124m\"\u001b[39m\u001b[38;5;124mnullable\u001b[39m\u001b[38;5;124m\"\u001b[39m])\n\u001b[1;32m     21\u001b[0m         \u001b[38;5;66;03m# StructField(field[\"name\"], field[\"type\"], field[\"nullable\"])\u001b[39;00m\n\u001b[1;32m     22\u001b[0m         \u001b[38;5;28;01mfor\u001b[39;00m field \u001b[38;5;129;01min\u001b[39;00m schema_config\n\u001b[1;32m     23\u001b[0m     ]\n\u001b[1;32m     24\u001b[0m     \u001b[38;5;28mprint\u001b[39m(fields)\n\u001b[1;32m     25\u001b[0m     \u001b[38;5;28;01mreturn\u001b[39;00m StructType(fields)\n",
      "Cell \u001b[0;32mIn[7], line 20\u001b[0m, in \u001b[0;36m<listcomp>\u001b[0;34m(.0)\u001b[0m\n\u001b[1;32m     18\u001b[0m \u001b[38;5;28;01mdef\u001b[39;00m \u001b[38;5;21mcreate_struct_type\u001b[39m(schema_config):\n\u001b[1;32m     19\u001b[0m     fields \u001b[38;5;241m=\u001b[39m [\n\u001b[0;32m---> 20\u001b[0m         StructField(field[\u001b[38;5;124m\"\u001b[39m\u001b[38;5;124mname\u001b[39m\u001b[38;5;124m\"\u001b[39m], \u001b[43mtype_mapping\u001b[49m\u001b[43m[\u001b[49m\u001b[43mfield\u001b[49m\u001b[43m[\u001b[49m\u001b[38;5;124;43m\"\u001b[39;49m\u001b[38;5;124;43mtype\u001b[39;49m\u001b[38;5;124;43m\"\u001b[39;49m\u001b[43m]\u001b[49m\u001b[43m]\u001b[49m, field[\u001b[38;5;124m\"\u001b[39m\u001b[38;5;124mnullable\u001b[39m\u001b[38;5;124m\"\u001b[39m])\n\u001b[1;32m     21\u001b[0m         \u001b[38;5;66;03m# StructField(field[\"name\"], field[\"type\"], field[\"nullable\"])\u001b[39;00m\n\u001b[1;32m     22\u001b[0m         \u001b[38;5;28;01mfor\u001b[39;00m field \u001b[38;5;129;01min\u001b[39;00m schema_config\n\u001b[1;32m     23\u001b[0m     ]\n\u001b[1;32m     24\u001b[0m     \u001b[38;5;28mprint\u001b[39m(fields)\n\u001b[1;32m     25\u001b[0m     \u001b[38;5;28;01mreturn\u001b[39;00m StructType(fields)\n",
      "\u001b[0;31mKeyError\u001b[0m: 'StringType()'"
     ]
    }
   ],
   "source": [
    "import yaml\n",
    "from pyspark.sql import SparkSession\n",
    "from pyspark.sql.types import StructType, StructField, StringType, FloatType, IntegerType\n",
    "\n",
    "# Load the YAML configuration file\n",
    "def load_config(file_path):\n",
    "    with open(file_path, 'r') as f:\n",
    "        return yaml.safe_load(f)\n",
    "\n",
    "# Map YAML types to PySpark types\n",
    "type_mapping = {\n",
    "    \"StringType\": StringType,\n",
    "    \"FloatType\": FloatType,\n",
    "    \"IntegerType\": IntegerType,\n",
    "}\n",
    "\n",
    "# Convert YAML schema to PySpark StructType\n",
    "def create_struct_type(schema_config):\n",
    "    fields = [\n",
    "        StructField(field[\"name\"], type_mapping[field[\"type\"]](), field[\"nullable\"])\n",
    "        # StructField(field[\"name\"], field[\"type\"], field[\"nullable\"])\n",
    "        for field in schema_config\n",
    "    ]\n",
    "    print(fields)\n",
    "    return StructType(fields)\n",
    "\n",
    "# Initialize Spark session\n",
    "spark = SparkSession.builder \\\n",
    "    .appName(\"CreateDataFrameFromYAML\") \\\n",
    "    .getOrCreate()\n",
    "\n",
    "# Load the schema from YAML file\n",
    "config = load_config('schema.yaml')\n",
    "\n",
    "# Extract the schema\n",
    "schema = create_struct_type(config['schema'])\n",
    "\n",
    "# Example data to match the schema\n",
    "data = [\n",
    "    (\"2024-12-01\", 100.5, 105.3, 5000),\n",
    "    (\"2024-12-02\", 101.2, 106.4, 6000),\n",
    "    (\"2024-12-03\", 102.3, 107.1, 7000)\n",
    "]\n",
    "\n",
    "# Create a DataFrame using the schema\n",
    "df = spark.createDataFrame(data, schema)\n",
    "\n",
    "# Show the DataFrame\n",
    "df.show()"
   ]
  },
  {
   "cell_type": "code",
   "execution_count": null,
   "id": "d4258102-6c41-44fa-afb7-95be7448b9f2",
   "metadata": {},
   "outputs": [],
   "source": []
  }
 ],
 "metadata": {
  "kernelspec": {
   "display_name": "Python 3 (ipykernel)",
   "language": "python",
   "name": "python3"
  },
  "language_info": {
   "codemirror_mode": {
    "name": "ipython",
    "version": 3
   },
   "file_extension": ".py",
   "mimetype": "text/x-python",
   "name": "python",
   "nbconvert_exporter": "python",
   "pygments_lexer": "ipython3",
   "version": "3.10.12"
  }
 },
 "nbformat": 4,
 "nbformat_minor": 5
}
