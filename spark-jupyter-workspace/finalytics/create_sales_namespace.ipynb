{
 "cells": [
  {
   "cell_type": "code",
   "execution_count": 1,
   "id": "abb63015-c156-407b-8c42-e7d55f76d581",
   "metadata": {},
   "outputs": [],
   "source": []
  },
  {
   "cell_type": "code",
   "execution_count": 2,
   "id": "bbecf5f5-1560-427a-835d-f8a58236a865",
   "metadata": {},
   "outputs": [
    {
     "name": "stdout",
     "output_type": "stream",
     "text": [
      "Spark Session Started\n",
      "++\n",
      "||\n",
      "++\n",
      "++\n",
      "\n"
     ]
    },
    {
     "name": "stderr",
     "output_type": "stream",
     "text": [
      "SLF4J: Failed to load class \"org.slf4j.impl.StaticLoggerBinder\".\n",
      "SLF4J: Defaulting to no-operation (NOP) logger implementation\n",
      "SLF4J: See http://www.slf4j.org/codes.html#StaticLoggerBinder for further details.\n",
      "                                                                                \r"
     ]
    },
    {
     "name": "stdout",
     "output_type": "stream",
     "text": [
      "+--------+-----------+--------+--------+------+----------+\n",
      "|order_id|customer_id| product|quantity| price|order_date|\n",
      "+--------+-----------+--------+--------+------+----------+\n",
      "|       1|        101|  Laptop|       1|1000.0|2023-08-01|\n",
      "|       2|        102|   Mouse|       2|  25.5|2023-08-01|\n",
      "|       3|        103|Keyboard|       1|  45.0|2023-08-01|\n",
      "|       1|        101|  Laptop|       1|1000.0|2023-08-01|\n",
      "|       4|        104| Monitor|    NULL| 200.0|2023-08-02|\n",
      "|       5|       NULL|   Mouse|       1|  25.5|2023-08-02|\n",
      "+--------+-----------+--------+--------+------+----------+\n",
      "\n"
     ]
    }
   ],
   "source": [
    "import pyspark\n",
    "from pyspark.sql import SparkSession\n",
    "from pyspark.sql.types import StructType, StructField, IntegerType, StringType, DoubleType\n",
    "import os\n",
    "\n",
    "## DEFINE SENSITIVE VARIABLES\n",
    "CATALOG_URI = \"http://nessie:19120/api/v1\"  # Nessie Server URI\n",
    "WAREHOUSE = \"s3://warehouse/\"               # Minio Address to Write to\n",
    "STORAGE_URI = \"http://172.22.0.3:9000\"      # Minio IP address from docker inspect\n",
    "\n",
    "# Configure Spark with necessary packages and Iceberg/Nessie settings\n",
    "conf = (\n",
    "    pyspark.SparkConf()\n",
    "        .setAppName('sales_data_app')\n",
    "        # Include necessary packages\n",
    "        .set('spark.jars.packages', 'org.postgresql:postgresql:42.7.3,org.apache.iceberg:iceberg-spark-runtime-3.5_2.12:1.5.0,org.projectnessie.nessie-integrations:nessie-spark-extensions-3.5_2.12:0.77.1,software.amazon.awssdk:bundle:2.24.8,software.amazon.awssdk:url-connection-client:2.24.8')\n",
    "        # Enable Iceberg and Nessie extensions\n",
    "        .set('spark.sql.extensions', 'org.apache.iceberg.spark.extensions.IcebergSparkSessionExtensions,org.projectnessie.spark.extensions.NessieSparkSessionExtensions')\n",
    "        # Configure Nessie catalog\n",
    "        .set('spark.sql.catalog.nessie', 'org.apache.iceberg.spark.SparkCatalog')\n",
    "        .set('spark.sql.catalog.nessie.uri', CATALOG_URI)\n",
    "        .set('spark.sql.catalog.nessie.ref', 'main')\n",
    "        .set('spark.sql.catalog.nessie.authentication.type', 'NONE')\n",
    "        .set('spark.sql.catalog.nessie.catalog-impl', 'org.apache.iceberg.nessie.NessieCatalog')\n",
    "        # Set Minio as the S3 endpoint for Iceberg storage\n",
    "        .set('spark.sql.catalog.nessie.s3.endpoint', STORAGE_URI)\n",
    "        .set('spark.sql.catalog.nessie.warehouse', WAREHOUSE)\n",
    "        .set('spark.sql.catalog.nessie.io-impl', 'org.apache.iceberg.aws.s3.S3FileIO')\n",
    ")\n",
    "\n",
    "# Start Spark session\n",
    "spark = SparkSession.builder.config(conf=conf).getOrCreate()\n",
    "print(\"Spark Session Started\")\n",
    "\n",
    "# Define a schema for the sales data\n",
    "schema = StructType([\n",
    "    StructField(\"order_id\", IntegerType(), True),\n",
    "    StructField(\"customer_id\", IntegerType(), True),\n",
    "    StructField(\"product\", StringType(), True),\n",
    "    StructField(\"quantity\", IntegerType(), True),\n",
    "    StructField(\"price\", DoubleType(), True),\n",
    "    StructField(\"order_date\", StringType(), True)\n",
    "])\n",
    "\n",
    "# Create a DataFrame with messy sales data (including duplicates and errors)\n",
    "sales_data = [\n",
    "    (1, 101, \"Laptop\", 1, 1000.00, \"2023-08-01\"),\n",
    "    (2, 102, \"Mouse\", 2, 25.50, \"2023-08-01\"),\n",
    "    (3, 103, \"Keyboard\", 1, 45.00, \"2023-08-01\"),\n",
    "    (1, 101, \"Laptop\", 1, 1000.00, \"2023-08-01\"),  # Duplicate\n",
    "    (4, 104, \"Monitor\", None, 200.00, \"2023-08-02\"),  # Missing quantity\n",
    "    (5, None, \"Mouse\", 1, 25.50, \"2023-08-02\")  # Missing customer_id\n",
    "]\n",
    "\n",
    "# Convert the data into a DataFrame\n",
    "sales_df = spark.createDataFrame(sales_data, schema)\n",
    "\n",
    "# Create the \"sales\" namespace\n",
    "spark.sql(\"CREATE NAMESPACE IF NOT EXISTS nessie.sales;\").show()\n",
    "\n",
    "# Write the DataFrame to an Iceberg table in the Nessie catalog\n",
    "sales_df.writeTo(\"nessie.sales.sales_data_raw\").createOrReplace()\n",
    "\n",
    "# Verify by reading from the Iceberg table\n",
    "spark.read.table(\"nessie.sales.sales_data_raw\").show()\n",
    "\n",
    "# Stop the Spark session\n",
    "spark.stop()\n"
   ]
  },
  {
   "cell_type": "code",
   "execution_count": 2,
   "id": "73a6fb4d-6b87-4bf0-b3ea-0f516a49e0f2",
   "metadata": {},
   "outputs": [
    {
     "ename": "SyntaxError",
     "evalue": "invalid syntax (3644691593.py, line 1)",
     "output_type": "error",
     "traceback": [
      "\u001b[0;36m  Cell \u001b[0;32mIn[2], line 1\u001b[0;36m\u001b[0m\n\u001b[0;31m    poetry init\u001b[0m\n\u001b[0m           ^\u001b[0m\n\u001b[0;31mSyntaxError\u001b[0m\u001b[0;31m:\u001b[0m invalid syntax\n"
     ]
    }
   ],
   "source": [
    "poetry init"
   ]
  },
  {
   "cell_type": "code",
   "execution_count": 3,
   "id": "faf4821c-9a08-4625-b572-b0ce08f099ad",
   "metadata": {},
   "outputs": [
    {
     "ename": "ModuleNotFoundError",
     "evalue": "No module named 'yfinance'",
     "output_type": "error",
     "traceback": [
      "\u001b[0;31m---------------------------------------------------------------------------\u001b[0m",
      "\u001b[0;31mModuleNotFoundError\u001b[0m                       Traceback (most recent call last)",
      "Cell \u001b[0;32mIn[3], line 1\u001b[0m\n\u001b[0;32m----> 1\u001b[0m \u001b[38;5;28;01mimport\u001b[39;00m \u001b[38;5;21;01myfinance\u001b[39;00m \u001b[38;5;28;01mas\u001b[39;00m \u001b[38;5;21;01myf\u001b[39;00m\n\u001b[1;32m      3\u001b[0m \u001b[38;5;66;03m# Define the stock ticker (e.g., 'AAPL' for Apple)\u001b[39;00m\n\u001b[1;32m      4\u001b[0m ticker_symbol \u001b[38;5;241m=\u001b[39m \u001b[38;5;124m'\u001b[39m\u001b[38;5;124mAAPL\u001b[39m\u001b[38;5;124m'\u001b[39m\n",
      "\u001b[0;31mModuleNotFoundError\u001b[0m: No module named 'yfinance'"
     ]
    }
   ],
   "source": [
    "import yfinance as yf\n",
    "\n",
    "# Define the stock ticker (e.g., 'AAPL' for Apple)\n",
    "ticker_symbol = 'AAPL'\n",
    "\n",
    "# Fetch the ticker data\n",
    "ticker_data = yf.Ticker(ticker_symbol)\n",
    "\n",
    "# Get historical market data (e.g., last 30 days)\n",
    "historical_data = ticker_data.history(period=\"1mo\")\n",
    "\n",
    "# Get additional information about the company\n",
    "company_info = ticker_data.info\n",
    "\n",
    "# Print historical data and company info\n",
    "print(\"Historical Data (Last 30 Days):\")\n",
    "print(historical_data)\n",
    "\n",
    "print(\"\\nCompany Info:\")\n",
    "print(company_info)\n"
   ]
  },
  {
   "cell_type": "code",
   "execution_count": null,
   "id": "6d347bc4-16fa-40d3-b2c8-00abe905f893",
   "metadata": {},
   "outputs": [],
   "source": [
    "print('wow')"
   ]
  },
  {
   "cell_type": "code",
   "execution_count": null,
   "id": "92f959c4-bb47-4953-a822-6cdb7bd44eca",
   "metadata": {},
   "outputs": [],
   "source": []
  },
  {
   "cell_type": "code",
   "execution_count": null,
   "id": "4def16bc-069f-4d7d-aeca-56fbb84ce282",
   "metadata": {},
   "outputs": [],
   "source": [
    "print('11')"
   ]
  },
  {
   "cell_type": "code",
   "execution_count": null,
   "id": "c29f31dd-def3-48ff-8d09-ea6b040c37c2",
   "metadata": {},
   "outputs": [],
   "source": []
  },
  {
   "cell_type": "code",
   "execution_count": null,
   "id": "04565dea-fed6-48df-8c6f-4c0b99644964",
   "metadata": {},
   "outputs": [],
   "source": [
    "print('heell')"
   ]
  },
  {
   "cell_type": "code",
   "execution_count": null,
   "id": "c55d85a3-4392-4088-bc56-0874967fa2f2",
   "metadata": {},
   "outputs": [],
   "source": []
  },
  {
   "cell_type": "code",
   "execution_count": 1,
   "id": "9de8eab8-b734-4bc9-9f16-e943a636ef0b",
   "metadata": {},
   "outputs": [],
   "source": [
    "import yfinance"
   ]
  },
  {
   "cell_type": "code",
   "execution_count": 2,
   "id": "5f89aa27-ab5e-4ccb-8588-795610afb39e",
   "metadata": {},
   "outputs": [
    {
     "data": {
      "text/plain": [
       "<module 'yfinance' from '/usr/local/lib/python3.10/dist-packages/yfinance/__init__.py'>"
      ]
     },
     "execution_count": 2,
     "metadata": {},
     "output_type": "execute_result"
    }
   ],
   "source": [
    "yfinance"
   ]
  },
  {
   "cell_type": "code",
   "execution_count": 3,
   "id": "daefcdc9-bbb7-4691-b4e8-f2c6aebf92e1",
   "metadata": {},
   "outputs": [],
   "source": [
    "import requests"
   ]
  },
  {
   "cell_type": "code",
   "execution_count": 4,
   "id": "ac7bc91d-54cb-4259-9679-8577e03748ec",
   "metadata": {},
   "outputs": [
    {
     "data": {
      "text/plain": [
       "<module 'requests' from '/usr/local/lib/python3.10/dist-packages/requests/__init__.py'>"
      ]
     },
     "execution_count": 4,
     "metadata": {},
     "output_type": "execute_result"
    }
   ],
   "source": [
    "requests"
   ]
  },
  {
   "cell_type": "code",
   "execution_count": null,
   "id": "f20ecdc8-4f14-486f-8486-059f589c4603",
   "metadata": {},
   "outputs": [],
   "source": []
  }
 ],
 "metadata": {
  "kernelspec": {
   "display_name": "Python 3 (ipykernel)",
   "language": "python",
   "name": "python3"
  },
  "language_info": {
   "codemirror_mode": {
    "name": "ipython",
    "version": 3
   },
   "file_extension": ".py",
   "mimetype": "text/x-python",
   "name": "python",
   "nbconvert_exporter": "python",
   "pygments_lexer": "ipython3",
   "version": "3.10.12"
  }
 },
 "nbformat": 4,
 "nbformat_minor": 5
}
