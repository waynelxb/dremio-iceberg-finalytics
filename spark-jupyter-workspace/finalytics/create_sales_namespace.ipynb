{
 "cells": [
  {
   "cell_type": "code",
   "execution_count": 2,
   "id": "bbecf5f5-1560-427a-835d-f8a58236a865",
   "metadata": {},
   "outputs": [
    {
     "name": "stdout",
     "output_type": "stream",
     "text": [
      "Spark Session Started\n",
      "++\n",
      "||\n",
      "++\n",
      "++\n",
      "\n"
     ]
    },
    {
     "name": "stderr",
     "output_type": "stream",
     "text": [
      "SLF4J: Failed to load class \"org.slf4j.impl.StaticLoggerBinder\".\n",
      "SLF4J: Defaulting to no-operation (NOP) logger implementation\n",
      "SLF4J: See http://www.slf4j.org/codes.html#StaticLoggerBinder for further details.\n",
      "                                                                                \r"
     ]
    },
    {
     "name": "stdout",
     "output_type": "stream",
     "text": [
      "+--------+-----------+--------+--------+------+----------+\n",
      "|order_id|customer_id| product|quantity| price|order_date|\n",
      "+--------+-----------+--------+--------+------+----------+\n",
      "|       1|        101|  Laptop|       1|1000.0|2023-08-01|\n",
      "|       2|        102|   Mouse|       2|  25.5|2023-08-01|\n",
      "|       3|        103|Keyboard|       1|  45.0|2023-08-01|\n",
      "|       1|        101|  Laptop|       1|1000.0|2023-08-01|\n",
      "|       4|        104| Monitor|    NULL| 200.0|2023-08-02|\n",
      "|       5|       NULL|   Mouse|       1|  25.5|2023-08-02|\n",
      "+--------+-----------+--------+--------+------+----------+\n",
      "\n"
     ]
    }
   ],
   "source": [
    "import pyspark\n",
    "from pyspark.sql import SparkSession\n",
    "from pyspark.sql.types import StructType, StructField, IntegerType, StringType, DoubleType\n",
    "import os\n",
    "\n",
    "## DEFINE SENSITIVE VARIABLES\n",
    "CATALOG_URI = \"http://nessie:19120/api/v1\"  # Nessie Server URI\n",
    "WAREHOUSE = \"s3://warehouse/\"               # Minio Address to Write to\n",
    "STORAGE_URI = \"http://172.22.0.3:9000\"      # Minio IP address from docker inspect\n",
    "\n",
    "# Configure Spark with necessary packages and Iceberg/Nessie settings\n",
    "conf = (\n",
    "    pyspark.SparkConf()\n",
    "        .setAppName('sales_data_app')\n",
    "        # Include necessary packages\n",
    "        .set('spark.jars.packages', 'org.postgresql:postgresql:42.7.3,org.apache.iceberg:iceberg-spark-runtime-3.5_2.12:1.5.0,org.projectnessie.nessie-integrations:nessie-spark-extensions-3.5_2.12:0.77.1,software.amazon.awssdk:bundle:2.24.8,software.amazon.awssdk:url-connection-client:2.24.8')\n",
    "        # Enable Iceberg and Nessie extensions\n",
    "        .set('spark.sql.extensions', 'org.apache.iceberg.spark.extensions.IcebergSparkSessionExtensions,org.projectnessie.spark.extensions.NessieSparkSessionExtensions')\n",
    "        # Configure Nessie catalog\n",
    "        .set('spark.sql.catalog.nessie', 'org.apache.iceberg.spark.SparkCatalog')\n",
    "        .set('spark.sql.catalog.nessie.uri', CATALOG_URI)\n",
    "        .set('spark.sql.catalog.nessie.ref', 'main')\n",
    "        .set('spark.sql.catalog.nessie.authentication.type', 'NONE')\n",
    "        .set('spark.sql.catalog.nessie.catalog-impl', 'org.apache.iceberg.nessie.NessieCatalog')\n",
    "        # Set Minio as the S3 endpoint for Iceberg storage\n",
    "        .set('spark.sql.catalog.nessie.s3.endpoint', STORAGE_URI)\n",
    "        .set('spark.sql.catalog.nessie.warehouse', WAREHOUSE)\n",
    "        .set('spark.sql.catalog.nessie.io-impl', 'org.apache.iceberg.aws.s3.S3FileIO')\n",
    ")\n",
    "\n",
    "# Start Spark session\n",
    "spark = SparkSession.builder.config(conf=conf).getOrCreate()\n",
    "print(\"Spark Session Started\")\n",
    "\n",
    "# Define a schema for the sales data\n",
    "schema = StructType([\n",
    "    StructField(\"order_id\", IntegerType(), True),\n",
    "    StructField(\"customer_id\", IntegerType(), True),\n",
    "    StructField(\"product\", StringType(), True),\n",
    "    StructField(\"quantity\", IntegerType(), True),\n",
    "    StructField(\"price\", DoubleType(), True),\n",
    "    StructField(\"order_date\", StringType(), True)\n",
    "])\n",
    "\n",
    "# Create a DataFrame with messy sales data (including duplicates and errors)\n",
    "sales_data = [\n",
    "    (1, 101, \"Laptop\", 1, 1000.00, \"2023-08-01\"),\n",
    "    (2, 102, \"Mouse\", 2, 25.50, \"2023-08-01\"),\n",
    "    (3, 103, \"Keyboard\", 1, 45.00, \"2023-08-01\"),\n",
    "    (1, 101, \"Laptop\", 1, 1000.00, \"2023-08-01\"),  # Duplicate\n",
    "    (4, 104, \"Monitor\", None, 200.00, \"2023-08-02\"),  # Missing quantity\n",
    "    (5, None, \"Mouse\", 1, 25.50, \"2023-08-02\")  # Missing customer_id\n",
    "]\n",
    "\n",
    "# Convert the data into a DataFrame\n",
    "sales_df = spark.createDataFrame(sales_data, schema)\n",
    "\n",
    "# Create the \"sales\" namespace\n",
    "spark.sql(\"CREATE NAMESPACE IF NOT EXISTS nessie.sales;\").show()\n",
    "\n",
    "# Write the DataFrame to an Iceberg table in the Nessie catalog\n",
    "sales_df.writeTo(\"nessie.sales.sales_data_raw\").createOrReplace()\n",
    "\n",
    "# Verify by reading from the Iceberg table\n",
    "spark.read.table(\"nessie.sales.sales_data_raw\").show()\n",
    "\n",
    "# Stop the Spark session\n",
    "spark.stop()\n"
   ]
  },
  {
   "cell_type": "code",
   "execution_count": null,
   "id": "faf4821c-9a08-4625-b572-b0ce08f099ad",
   "metadata": {},
   "outputs": [],
   "source": [
    "print(1)"
   ]
  },
  {
   "cell_type": "code",
   "execution_count": null,
   "id": "6d347bc4-16fa-40d3-b2c8-00abe905f893",
   "metadata": {},
   "outputs": [],
   "source": [
    "print('wow')"
   ]
  },
  {
   "cell_type": "code",
   "execution_count": null,
   "id": "92f959c4-bb47-4953-a822-6cdb7bd44eca",
   "metadata": {},
   "outputs": [],
   "source": []
  },
  {
   "cell_type": "code",
   "execution_count": null,
   "id": "4def16bc-069f-4d7d-aeca-56fbb84ce282",
   "metadata": {},
   "outputs": [],
   "source": [
    "print('11')"
   ]
  },
  {
   "cell_type": "code",
   "execution_count": null,
   "id": "c29f31dd-def3-48ff-8d09-ea6b040c37c2",
   "metadata": {},
   "outputs": [],
   "source": []
  },
  {
   "cell_type": "code",
   "execution_count": null,
   "id": "04565dea-fed6-48df-8c6f-4c0b99644964",
   "metadata": {},
   "outputs": [],
   "source": [
    "print('heell')"
   ]
  },
  {
   "cell_type": "code",
   "execution_count": null,
   "id": "c55d85a3-4392-4088-bc56-0874967fa2f2",
   "metadata": {},
   "outputs": [],
   "source": []
  },
  {
   "cell_type": "code",
   "execution_count": null,
   "id": "9de8eab8-b734-4bc9-9f16-e943a636ef0b",
   "metadata": {},
   "outputs": [],
   "source": []
  }
 ],
 "metadata": {
  "kernelspec": {
   "display_name": "Python 3 (ipykernel)",
   "language": "python",
   "name": "python3"
  },
  "language_info": {
   "codemirror_mode": {
    "name": "ipython",
    "version": 3
   },
   "file_extension": ".py",
   "mimetype": "text/x-python",
   "name": "python",
   "nbconvert_exporter": "python",
   "pygments_lexer": "ipython3",
   "version": "3.10.12"
  }
 },
 "nbformat": 4,
 "nbformat_minor": 5
}
