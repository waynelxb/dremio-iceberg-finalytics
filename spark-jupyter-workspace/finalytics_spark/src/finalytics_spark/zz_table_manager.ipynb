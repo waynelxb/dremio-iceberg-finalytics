{
 "cells": [
  {
   "cell_type": "code",
   "execution_count": 2,
   "id": "0ccc33ca-03f0-43de-96ff-3858da14d209",
   "metadata": {
    "tags": []
   },
   "outputs": [],
   "source": [
    "import yaml\n",
    "import pyspark\n",
    "from pyspark.sql.types import StructType, StructField, IntegerType, StringType, DoubleType, DateType, FloatType, TimestampType\n",
    "\n",
    "class TableManager:\n",
    "    def __init__(self, config_file):\n",
    "        \"\"\"\n",
    "        Initialize the TableManager with the path to the YAML configuration file.\n",
    "        \"\"\"\n",
    "        self.config_file = config_file\n",
    "        self.config = self._load_config()\n",
    "\n",
    "    def _load_config(self):\n",
    "        \"\"\"\n",
    "        Load the YAML configuration file.\n",
    "        \"\"\"\n",
    "        with open(self.config_file, \"r\") as file:\n",
    "            return yaml.safe_load(file)\n",
    "\n",
    "    def get_schema(self, table_name):\n",
    "        \"\"\"\n",
    "        Generate a PySpark schema for a given table name from the configuration.\n",
    "        \n",
    "        :param table_name: Name of the table in the configuration.\n",
    "        :return: A PySpark StructType schema.\n",
    "        \"\"\"\n",
    "        if table_name not in self.config[\"tables\"]:\n",
    "            raise ValueError(f\"Table '{table_name}' not found in the configuration.\")\n",
    "\n",
    "        table_config = self.config[\"tables\"][table_name]\n",
    "        schema = StructType([\n",
    "            StructField(field[\"name\"], eval(field[\"type\"])(), field[\"nullable\"])\n",
    "            for field in table_config[\"schema\"]\n",
    "        ])\n",
    "        return schema\n"
   ]
  },
  {
   "cell_type": "code",
   "execution_count": null,
   "id": "6e3b0036-e266-42d7-b70b-3928d8ca3aaa",
   "metadata": {},
   "outputs": [],
   "source": []
  },
  {
   "cell_type": "code",
   "execution_count": null,
   "id": "74d52738-ac44-4fc1-9d89-46f667c32ad0",
   "metadata": {},
   "outputs": [],
   "source": []
  }
 ],
 "metadata": {
  "kernelspec": {
   "display_name": "Poetry",
   "language": "python",
   "name": "poetry-kernel"
  },
  "language_info": {
   "codemirror_mode": {
    "name": "ipython",
    "version": 3
   },
   "file_extension": ".py",
   "mimetype": "text/x-python",
   "name": "python",
   "nbconvert_exporter": "python",
   "pygments_lexer": "ipython3",
   "version": "3.10.12"
  }
 },
 "nbformat": 4,
 "nbformat_minor": 5
}
