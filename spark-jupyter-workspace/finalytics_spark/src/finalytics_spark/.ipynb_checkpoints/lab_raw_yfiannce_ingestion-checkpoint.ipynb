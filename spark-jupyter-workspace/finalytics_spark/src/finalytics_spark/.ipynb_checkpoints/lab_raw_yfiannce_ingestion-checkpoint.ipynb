{
 "cells": [
  {
   "cell_type": "code",
   "execution_count": 1,
   "id": "bc71f1ce-97ce-4e88-a374-747acfc540fd",
   "metadata": {
    "tags": []
   },
   "outputs": [],
   "source": [
    "import os\n",
    "import yaml\n",
    "import nbimporter\n",
    "from datetime import datetime, date\n",
    "import pyspark\n",
    "from pyspark.sql import SparkSession\n",
    "from pyspark.sql.types import StructType, StructField, IntegerType, StringType, DoubleType,  DateType, TimestampType\n",
    "from pyspark.sql.functions import to_date, to_timestamp\n",
    "from lab_table_manager import TableManager\n",
    "import yfinance as yf\n",
    "from lab_pg_database_manager import PGDatabaseManager"
   ]
  },
  {
   "cell_type": "code",
   "execution_count": 2,
   "id": "c8e29c97-3bf7-4c3f-8608-65c8a39b910f",
   "metadata": {},
   "outputs": [
    {
     "name": "stdout",
     "output_type": "stream",
     "text": [
      ":: loading settings :: url = jar:file:/opt/spark/jars/ivy-2.5.1.jar!/org/apache/ivy/core/settings/ivysettings.xml\n"
     ]
    },
    {
     "name": "stderr",
     "output_type": "stream",
     "text": [
      "Ivy Default Cache set to: /root/.ivy2/cache\n",
      "The jars for the packages stored in: /root/.ivy2/jars\n",
      "org.postgresql#postgresql added as a dependency\n",
      "org.apache.iceberg#iceberg-spark-runtime-3.5_2.12 added as a dependency\n",
      "org.projectnessie.nessie-integrations#nessie-spark-extensions-3.5_2.12 added as a dependency\n",
      "software.amazon.awssdk#bundle added as a dependency\n",
      "software.amazon.awssdk#url-connection-client added as a dependency\n",
      ":: resolving dependencies :: org.apache.spark#spark-submit-parent-3d07cb75-889c-4994-863f-5adfb601cfdb;1.0\n",
      "\tconfs: [default]\n",
      "\tfound org.postgresql#postgresql;42.7.3 in central\n",
      "\tfound org.checkerframework#checker-qual;3.42.0 in central\n",
      "\tfound org.apache.iceberg#iceberg-spark-runtime-3.5_2.12;1.5.0 in central\n",
      "\tfound org.projectnessie.nessie-integrations#nessie-spark-extensions-3.5_2.12;0.77.1 in central\n",
      "\tfound software.amazon.awssdk#bundle;2.24.8 in central\n",
      "\tfound software.amazon.awssdk#url-connection-client;2.24.8 in central\n",
      "\tfound software.amazon.awssdk#utils;2.24.8 in central\n",
      "\tfound org.reactivestreams#reactive-streams;1.0.4 in central\n",
      "\tfound software.amazon.awssdk#annotations;2.24.8 in central\n",
      "\tfound org.slf4j#slf4j-api;1.7.30 in central\n",
      "\tfound software.amazon.awssdk#http-client-spi;2.24.8 in central\n",
      "\tfound software.amazon.awssdk#metrics-spi;2.24.8 in central\n",
      "downloading https://repo1.maven.org/maven2/org/postgresql/postgresql/42.7.3/postgresql-42.7.3.jar ...\n",
      "\t[SUCCESSFUL ] org.postgresql#postgresql;42.7.3!postgresql.jar (169ms)\n",
      "downloading https://repo1.maven.org/maven2/org/apache/iceberg/iceberg-spark-runtime-3.5_2.12/1.5.0/iceberg-spark-runtime-3.5_2.12-1.5.0.jar ...\n",
      "\t[SUCCESSFUL ] org.apache.iceberg#iceberg-spark-runtime-3.5_2.12;1.5.0!iceberg-spark-runtime-3.5_2.12.jar (10681ms)\n",
      "downloading https://repo1.maven.org/maven2/org/projectnessie/nessie-integrations/nessie-spark-extensions-3.5_2.12/0.77.1/nessie-spark-extensions-3.5_2.12-0.77.1.jar ...\n",
      "\t[SUCCESSFUL ] org.projectnessie.nessie-integrations#nessie-spark-extensions-3.5_2.12;0.77.1!nessie-spark-extensions-3.5_2.12.jar (1051ms)\n",
      "downloading https://repo1.maven.org/maven2/software/amazon/awssdk/bundle/2.24.8/bundle-2.24.8.jar ...\n",
      "\t[SUCCESSFUL ] software.amazon.awssdk#bundle;2.24.8!bundle.jar (146276ms)\n",
      "downloading https://repo1.maven.org/maven2/software/amazon/awssdk/url-connection-client/2.24.8/url-connection-client-2.24.8.jar ...\n",
      "\t[SUCCESSFUL ] software.amazon.awssdk#url-connection-client;2.24.8!url-connection-client.jar (19ms)\n",
      "downloading https://repo1.maven.org/maven2/org/checkerframework/checker-qual/3.42.0/checker-qual-3.42.0.jar ...\n",
      "\t[SUCCESSFUL ] org.checkerframework#checker-qual;3.42.0!checker-qual.jar (41ms)\n",
      "downloading https://repo1.maven.org/maven2/software/amazon/awssdk/utils/2.24.8/utils-2.24.8.jar ...\n",
      "\t[SUCCESSFUL ] software.amazon.awssdk#utils;2.24.8!utils.jar (56ms)\n",
      "downloading https://repo1.maven.org/maven2/software/amazon/awssdk/annotations/2.24.8/annotations-2.24.8.jar ...\n",
      "\t[SUCCESSFUL ] software.amazon.awssdk#annotations;2.24.8!annotations.jar (14ms)\n",
      "downloading https://repo1.maven.org/maven2/software/amazon/awssdk/http-client-spi/2.24.8/http-client-spi-2.24.8.jar ...\n",
      "\t[SUCCESSFUL ] software.amazon.awssdk#http-client-spi;2.24.8!http-client-spi.jar (20ms)\n",
      "downloading https://repo1.maven.org/maven2/org/reactivestreams/reactive-streams/1.0.4/reactive-streams-1.0.4.jar ...\n",
      "\t[SUCCESSFUL ] org.reactivestreams#reactive-streams;1.0.4!reactive-streams.jar (11ms)\n",
      "downloading https://repo1.maven.org/maven2/org/slf4j/slf4j-api/1.7.30/slf4j-api-1.7.30.jar ...\n",
      "\t[SUCCESSFUL ] org.slf4j#slf4j-api;1.7.30!slf4j-api.jar (17ms)\n",
      "downloading https://repo1.maven.org/maven2/software/amazon/awssdk/metrics-spi/2.24.8/metrics-spi-2.24.8.jar ...\n",
      "\t[SUCCESSFUL ] software.amazon.awssdk#metrics-spi;2.24.8!metrics-spi.jar (15ms)\n",
      ":: resolution report :: resolve 1930ms :: artifacts dl 158384ms\n",
      "\t:: modules in use:\n",
      "\torg.apache.iceberg#iceberg-spark-runtime-3.5_2.12;1.5.0 from central in [default]\n",
      "\torg.checkerframework#checker-qual;3.42.0 from central in [default]\n",
      "\torg.postgresql#postgresql;42.7.3 from central in [default]\n",
      "\torg.projectnessie.nessie-integrations#nessie-spark-extensions-3.5_2.12;0.77.1 from central in [default]\n",
      "\torg.reactivestreams#reactive-streams;1.0.4 from central in [default]\n",
      "\torg.slf4j#slf4j-api;1.7.30 from central in [default]\n",
      "\tsoftware.amazon.awssdk#annotations;2.24.8 from central in [default]\n",
      "\tsoftware.amazon.awssdk#bundle;2.24.8 from central in [default]\n",
      "\tsoftware.amazon.awssdk#http-client-spi;2.24.8 from central in [default]\n",
      "\tsoftware.amazon.awssdk#metrics-spi;2.24.8 from central in [default]\n",
      "\tsoftware.amazon.awssdk#url-connection-client;2.24.8 from central in [default]\n",
      "\tsoftware.amazon.awssdk#utils;2.24.8 from central in [default]\n",
      "\t---------------------------------------------------------------------\n",
      "\t|                  |            modules            ||   artifacts   |\n",
      "\t|       conf       | number| search|dwnlded|evicted|| number|dwnlded|\n",
      "\t---------------------------------------------------------------------\n",
      "\t|      default     |   12  |   12  |   12  |   0   ||   12  |   12  |\n",
      "\t---------------------------------------------------------------------\n",
      ":: retrieving :: org.apache.spark#spark-submit-parent-3d07cb75-889c-4994-863f-5adfb601cfdb\n",
      "\tconfs: [default]\n",
      "\t12 artifacts copied, 0 already retrieved (589451kB/434ms)\n",
      "25/01/03 22:38:56 WARN NativeCodeLoader: Unable to load native-hadoop library for your platform... using builtin-java classes where applicable\n",
      "Setting default log level to \"WARN\".\n",
      "To adjust logging level use sc.setLogLevel(newLevel). For SparkR, use setLogLevel(newLevel).\n"
     ]
    },
    {
     "data": {
      "text/plain": [
       "DataFrame[]"
      ]
     },
     "execution_count": 2,
     "metadata": {},
     "output_type": "execute_result"
    }
   ],
   "source": [
    "with open(\"cfg_connections.yaml\",\"r\") as file:\n",
    "    config=yaml.safe_load(file)\n",
    "    catalog_uri = config['docker_env']['catalog_uri'] \n",
    "    warehouse = config['docker_env']['warehouse']     # Minio Address to Write to\n",
    "    storage_uri = config['docker_env']['storage_uri'] # Minio IP address from docker inspec\n",
    "\n",
    "# Configure Spark with necessary packages and Iceberg/Nessie settings\n",
    "conf = (\n",
    "    pyspark.SparkConf()\n",
    "        .setAppName('finalytics_app')\n",
    "        # Include necessary packages\n",
    "        .set('spark.jars.packages',\n",
    "             'org.postgresql:postgresql:42.7.3,'\n",
    "             'org.apache.iceberg:iceberg-spark-runtime-3.5_2.12:1.5.0,'\n",
    "             'org.projectnessie.nessie-integrations:nessie-spark-extensions-3.5_2.12:0.77.1,'\n",
    "             'software.amazon.awssdk:bundle:2.24.8,'\n",
    "             'software.amazon.awssdk:url-connection-client:2.24.8')\n",
    "        # Enable Iceberg and Nessie extensions\n",
    "        .set('spark.sql.extensions', \n",
    "             'org.apache.iceberg.spark.extensions.IcebergSparkSessionExtensions,'\n",
    "             'org.projectnessie.spark.extensions.NessieSparkSessionExtensions')\n",
    "        # Configure Nessie catalog\n",
    "        .set('spark.sql.catalog.nessie', 'org.apache.iceberg.spark.SparkCatalog')\n",
    "        .set('spark.sql.catalog.nessie.uri', catalog_uri)\n",
    "        .set('spark.sql.catalog.nessie.ref', 'main')\n",
    "        .set('spark.sql.catalog.nessie.authentication.type', 'NONE')\n",
    "        .set('spark.sql.catalog.nessie.catalog-impl', 'org.apache.iceberg.nessie.NessieCatalog')\n",
    "        # Set Minio as the S3 endpoint for Iceberg storage\n",
    "        .set('spark.sql.catalog.nessie.s3.endpoint', storage_uri)\n",
    "        .set('spark.sql.catalog.nessie.warehouse', warehouse)\n",
    "        .set('spark.sql.catalog.nessie.io-impl', 'org.apache.iceberg.aws.s3.S3FileIO')       \n",
    ")   \n",
    "\n",
    "# Start Spark session\n",
    "spark = SparkSession.builder.config(conf=conf).getOrCreate()  \n",
    "# Create the \"raw\" namespace\n",
    "spark.sql(\"CREATE NAMESPACE IF NOT EXISTS nessie.raw;\")\n",
    "\n"
   ]
  },
  {
   "cell_type": "code",
   "execution_count": 3,
   "id": "43f1668e-6c02-40a4-8d8b-4c1e522420fb",
   "metadata": {
    "tags": []
   },
   "outputs": [],
   "source": [
    "def fetch_yfinance_record(symbol_date_pairs):\n",
    "    try:\n",
    "        symbol, start_date = symbol_date_pairs\n",
    "        # Fetch stock data using yfinance\n",
    "        quote = yf.Ticker(symbol)\n",
    "        current_date = date.today()\n",
    "        hist = quote.history(start=start_date, end=current_date)\n",
    "\n",
    "        # Reset index to include Date as a column and format it\n",
    "        hist.reset_index(inplace=True)\n",
    "        hist[\"Date\"] = hist[\"Date\"].dt.date\n",
    "        \n",
    "        # limit and stablize the fields of hist\n",
    "        hist = hist[['Date', 'Open', 'High', 'Low', 'Close', 'Volume', 'Dividends', 'Stock Splits']]\n",
    "        \n",
    "        # Add symbol and import_time to each row\n",
    "        record_list = [\n",
    "            tuple(row) + (symbol, import_time) for row in hist.itertuples(index=False)\n",
    "        ]\n",
    "\n",
    "        # print(record_list)\n",
    "        return record_list\n",
    "\n",
    "    except Exception as e:\n",
    "        print(f\"Error fetching data for {symbol}: {e}\")\n",
    "        return []  # Return an empty list on error"
   ]
  },
  {
   "cell_type": "code",
   "execution_count": 4,
   "id": "fa7a8628-9f57-478a-9ca5-5e500fceb7a6",
   "metadata": {
    "tags": []
   },
   "outputs": [],
   "source": [
    "def parallel_fetch_yfinance_record(symbol_date_pairs, record_schema):\n",
    "    try:\n",
    "        # Distribute (symbol, start_date) pairs across Spark workers\n",
    "        record_rdd = spark.sparkContext.parallelize(symbol_date_pairs)\n",
    "\n",
    "        \n",
    "        # Fetch data in parallel\n",
    "        mapped_record_rdd = record_rdd.flatMap(fetch_yfinance_record)\n",
    "\n",
    "        # Convert RDD to DataFrame\n",
    "        result_df = spark.createDataFrame(mapped_record_rdd, schema=record_schema)\n",
    "        # result_df = spark.createDataFrame(mapped_record_rdd)\n",
    "\n",
    "        # Show or save the results\n",
    "        # result_df.show()\n",
    "        return result_df\n",
    "    except Exception as e:\n",
    "        print(f\"Error paralleling fetch: {e}\")\n",
    "        return spark.createDataFrame([])"
   ]
  },
  {
   "cell_type": "code",
   "execution_count": 5,
   "id": "78b02da3-a584-4dbd-b44b-ccd3d5bbed1a",
   "metadata": {
    "tags": []
   },
   "outputs": [],
   "source": [
    "def load_iceberg_raw_eod_yfinance(symbol_date_pairs, iceberg_sink_table, schema_config_file):\n",
    "    try: \n",
    "        table_manager=TableManager(schema_config_file)\n",
    "        schema_struct_type=table_manager.get_struct_type(iceberg_sink_table)   \n",
    "\n",
    "        # print(schema_struct_type)\n",
    "        create_table_script = table_manager.get_create_table_query(iceberg_sink_table)\n",
    "        spark.sql(create_table_script)\n",
    "\n",
    "        df_source=parallel_fetch_yfinance_record(symbol_date_pairs, schema_struct_type)\n",
    "        \n",
    "        # df_source.writeTo(iceberg_sink_table).append()\n",
    "        df_source.write.mode(\"overwrite\").saveAsTable(iceberg_sink_table)    \n",
    "        # df_source.writeTo(iceberg_sink_table).overwritePartitions() \n",
    "\n",
    "        print(f\"{iceberg_sink_table} has been loaded\")\n",
    "        \n",
    "    except Exception as e:\n",
    "        print(f\"Error loading lceberg raw table: {e}\")\n",
    "        "
   ]
  },
  {
   "cell_type": "code",
   "execution_count": 6,
   "id": "a2dff869-fe5d-4be5-8762-3ea44b8ce947",
   "metadata": {},
   "outputs": [],
   "source": [
    "def load_pg_finalytics(iceberg_source_table, pg_url, pg_driver, pg_sink_table, pg_truncate_script, pg_merge_script):   \n",
    "    try:     \n",
    "        df_source=spark.read.table(iceberg_source_table)          \n",
    "        finalytics.execute_sql_script(pg_truncate_script)\n",
    "        \n",
    "        # Write DataFrame to PostgreSQL\n",
    "        df_source.write.jdbc(url=pg_url, table=pg_sink_table, mode=\"append\", properties={\"driver\": pg_driver})        \n",
    "        finalytics.execute_sql_script(pg_merge_script)\n",
    "    except Exception as e:\n",
    "        print(f\"Error loading pg finalytics: {e}\")        \n"
   ]
  },
  {
   "cell_type": "markdown",
   "id": "519c3d0f-0086-4ca7-bb71-974aaedc0d9f",
   "metadata": {
    "tags": []
   },
   "source": [
    "## Load nessie.raw.stock_eod_yfinance"
   ]
  },
  {
   "cell_type": "code",
   "execution_count": 7,
   "id": "87ce60ae-b25b-44e2-a2a3-c33c05aa5172",
   "metadata": {
    "tags": []
   },
   "outputs": [
    {
     "name": "stderr",
     "output_type": "stream",
     "text": [
      "SLF4J: Failed to load class \"org.slf4j.impl.StaticLoggerBinder\".\n",
      "SLF4J: Defaulting to no-operation (NOP) logger implementation\n",
      "SLF4J: See http://www.slf4j.org/codes.html#StaticLoggerBinder for further details.\n",
      "$EIGR: possibly delisted; no price data found  (1d 2024-11-15 -> 2025-01-03)/ 4]\n",
      "Error fetching data for EIGR: Can only use .dt accessor with datetimelike values\n",
      "$NYCB: possibly delisted; no timezone found\n",
      "Error fetching data for NYCB: Can only use .dt accessor with datetimelike values\n",
      "$VSTO: possibly delisted; no price data found  (1d 2024-11-27 -> 2025-01-03)/ 4]\n",
      "Error fetching data for VSTO: Can only use .dt accessor with datetimelike values\n",
      "                                                                                "
     ]
    },
    {
     "name": "stdout",
     "output_type": "stream",
     "text": [
      "nessie.raw.stock_eod_yfinance has been loaded\n"
     ]
    }
   ],
   "source": [
    "# symbol_start_date_pairs = [\n",
    "#     ('PRMW', '2024-12-20'),\n",
    "#     ('CATC', '2024-12-20'),\n",
    "#     ('SQSP', '2024-12-20'),\n",
    "# ]\n",
    "\n",
    "# Get finalytics connetion info\n",
    "conn_config_file='cfg_connections.yaml'\n",
    "finalytics=PGDatabaseManager(conn_config_file, 'finalytics')\n",
    "pg_url=finalytics.jdbc_url\n",
    "pg_driver=finalytics.driver\n",
    "\n",
    "# Get symbol_start_date_pairs from finalytics\n",
    "# query=\"select symbol, start_date from fin.vw_etl_stock_eod_start_date limit 20\"\n",
    "query=\"select symbol, start_date from fin.vw_etl_stock_eod_start_date\"\n",
    "symbol_start_date_pairs=finalytics.get_sql_script_result_list(query)\n",
    "# print(symbol_start_date_pairs)\n",
    "\n",
    "\n",
    "# Get iceberg table config info\n",
    "table_schema_config_file='cfg_table_schemas.yaml'\n",
    "iceberg_table='nessie.raw.stock_eod_yfinance'\n",
    "\n",
    "# Set global import_time\n",
    "import_time = datetime.now().isoformat()\n",
    "\n",
    "# Load nessie.raw.stock_eod_yfinance \n",
    "load_iceberg_raw_eod_yfinance(symbol_start_date_pairs, iceberg_table, table_schema_config_file)\n"
   ]
  },
  {
   "cell_type": "markdown",
   "id": "c06a9dbb-80b6-49fb-8d87-d75e62c60416",
   "metadata": {},
   "source": [
    "## Load finalytics.stage.stock_eod_quote_yahoo and merge into fin.stock_eod_quote"
   ]
  },
  {
   "cell_type": "code",
   "execution_count": 8,
   "id": "7ff6a1d9-c5fa-4697-9b7b-b257048855eb",
   "metadata": {
    "tags": []
   },
   "outputs": [
    {
     "name": "stderr",
     "output_type": "stream",
     "text": [
      "                                                                                "
     ]
    }
   ],
   "source": [
    "pg_table = \"stage.stock_eod_quote_yahoo\"  # Replace with the PostgreSQL table name\n",
    "\n",
    "pg_truncate_script = f\"truncate table {pg_table};\"\n",
    "\n",
    "pg_merge_script = \"call fin.usp_load_stock_eod();\"\n",
    "\n",
    "load_pg_finalytics(iceberg_table, pg_url, pg_driver, pg_table,  pg_truncate_script, pg_merge_script)"
   ]
  },
  {
   "cell_type": "code",
   "execution_count": 9,
   "id": "c3904a34-d834-4d28-87b6-21f2b271fbb3",
   "metadata": {
    "tags": []
   },
   "outputs": [
    {
     "name": "stdout",
     "output_type": "stream",
     "text": [
      "+--------+\n",
      "|count(1)|\n",
      "+--------+\n",
      "|      68|\n",
      "+--------+\n",
      "\n"
     ]
    }
   ],
   "source": [
    "spark.sql(f'select count(*) from {iceberg_table}').show()"
   ]
  },
  {
   "cell_type": "code",
   "execution_count": 10,
   "id": "06376922-1939-4c55-bde2-0be33707d47a",
   "metadata": {
    "tags": []
   },
   "outputs": [
    {
     "name": "stdout",
     "output_type": "stream",
     "text": [
      "+----------+------+------+------+------+-------+---------+------------+------+--------------------------+\n",
      "|date      |open  |high  |low   |close |volume |dividends|stock_splits|symbol|import_time               |\n",
      "+----------+------+------+------+------+-------+---------+------------+------+--------------------------+\n",
      "|2024-12-27|48.79 |50.1  |48.31 |49.3  |8900   |0.0      |0.0         |PDEX  |2025-01-03T22:39:19.039235|\n",
      "|2024-12-30|48.98 |48.98 |44.53 |45.91 |19200  |0.0      |0.0         |PDEX  |2025-01-03T22:39:19.039235|\n",
      "|2024-12-31|46.0  |46.98 |44.55 |46.75 |10200  |0.0      |0.0         |PDEX  |2025-01-03T22:39:19.039235|\n",
      "|2025-01-02|46.06 |48.26 |46.06 |46.36 |27400  |0.0      |0.0         |PDEX  |2025-01-03T22:39:19.039235|\n",
      "|2024-12-27|92.66 |92.91 |91.13 |92.07 |382000 |0.0      |0.0         |LNTH  |2025-01-03T22:39:19.039235|\n",
      "|2024-12-30|91.79 |91.79 |89.09 |89.13 |456100 |0.0      |0.0         |LNTH  |2025-01-03T22:39:19.039235|\n",
      "|2024-12-31|89.72 |91.308|89.13 |89.46 |644300 |0.0      |0.0         |LNTH  |2025-01-03T22:39:19.039235|\n",
      "|2025-01-02|89.8  |90.92 |87.24 |88.8  |770300 |0.0      |0.0         |LNTH  |2025-01-03T22:39:19.039235|\n",
      "|2024-12-27|176.55|177.69|174.77|175.81|639300 |0.0      |0.0         |CDW   |2025-01-03T22:39:19.039235|\n",
      "|2024-12-30|174.59|174.59|171.04|173.35|776800 |0.0      |0.0         |CDW   |2025-01-03T22:39:19.039235|\n",
      "|2024-12-31|174.56|175.63|173.16|174.04|711700 |0.0      |0.0         |CDW   |2025-01-03T22:39:19.039235|\n",
      "|2025-01-02|174.53|175.44|168.43|170.03|996400 |0.0      |0.0         |CDW   |2025-01-03T22:39:19.039235|\n",
      "|2024-12-27|0.579 |0.62  |0.5   |0.58  |1887300|0.0      |0.0         |FGEN  |2025-01-03T22:39:19.039235|\n",
      "|2024-12-30|0.577 |0.61  |0.513 |0.532 |1525200|0.0      |0.0         |FGEN  |2025-01-03T22:39:19.039235|\n",
      "|2024-12-31|0.522 |0.539 |0.49  |0.53  |921500 |0.0      |0.0         |FGEN  |2025-01-03T22:39:19.039235|\n",
      "|2025-01-02|0.53  |0.598 |0.482 |0.529 |2457900|0.0      |0.0         |FGEN  |2025-01-03T22:39:19.039235|\n",
      "|2024-12-27|14.0  |14.0  |13.01 |13.02 |15400  |0.0      |0.0         |NTIC  |2025-01-03T22:39:19.039235|\n",
      "|2024-12-30|13.0  |13.2  |12.5  |12.87 |36100  |0.0      |0.0         |NTIC  |2025-01-03T22:39:19.039235|\n",
      "|2024-12-31|12.7  |13.49 |12.7  |13.49 |30900  |0.0      |0.0         |NTIC  |2025-01-03T22:39:19.039235|\n",
      "|2025-01-02|13.48 |13.48 |12.88 |13.18 |26800  |0.0      |0.0         |NTIC  |2025-01-03T22:39:19.039235|\n",
      "+----------+------+------+------+------+-------+---------+------------+------+--------------------------+\n",
      "only showing top 20 rows\n",
      "\n"
     ]
    }
   ],
   "source": [
    "spark.sql('select * from nessie.raw.stock_eod_yfinance').show(truncate=False)"
   ]
  },
  {
   "cell_type": "code",
   "execution_count": 11,
   "id": "9a96c0a5-9315-4e5f-a4ed-6c717efd9a0b",
   "metadata": {},
   "outputs": [],
   "source": [
    "# print(symbol_start_date_pairs)"
   ]
  },
  {
   "cell_type": "code",
   "execution_count": null,
   "id": "fef35cd0-02d5-45aa-9c49-e182de44137b",
   "metadata": {},
   "outputs": [],
   "source": []
  }
 ],
 "metadata": {
  "kernelspec": {
   "display_name": "Poetry",
   "language": "python",
   "name": "poetry-kernel"
  },
  "language_info": {
   "codemirror_mode": {
    "name": "ipython",
    "version": 3
   },
   "file_extension": ".py",
   "mimetype": "text/x-python",
   "name": "python",
   "nbconvert_exporter": "python",
   "pygments_lexer": "ipython3",
   "version": "3.10.12"
  }
 },
 "nbformat": 4,
 "nbformat_minor": 5
}
