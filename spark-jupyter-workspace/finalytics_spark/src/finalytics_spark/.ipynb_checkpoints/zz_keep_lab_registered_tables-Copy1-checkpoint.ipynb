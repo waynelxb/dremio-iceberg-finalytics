{
 "cells": [
  {
   "cell_type": "code",
   "execution_count": 2,
   "id": "cf5685e9-efd1-449f-9d12-9499c6565e55",
   "metadata": {
    "tags": []
   },
   "outputs": [],
   "source": [
    "import yaml\n",
    "from pyspark.sql import SparkSession\n",
    "from pyspark.sql.types import StructType, StructField, StringType, FloatType, IntegerType\n",
    "\n",
    "# class RegisteredTables:\n",
    "#     from pyspark.sql.types import StructType, StructField, StringType, FloatType, IntegerType\n",
    "#     def __init__(self, zone, table, config_file_path):\n",
    "#         self.zone=zone\n",
    "#         self.table=table\n",
    "#         self.config_file_path=config_file_path\n",
    "        \n",
    "#         with open(self.config_file_path, 'r') as file:\n",
    "#             config=yaml.safe_load(file)\n",
    "#         self.table_schema=config[zone][table]['schema']  \n",
    "#         self.table_partition_by=config[zone][table].get('partition_by',[])\n",
    "\n",
    "#     # Convert YAML schema to PySpark StructType\n",
    "#     def get_struct_type(self):\n",
    "#         # Map YAML types to PySpark types\n",
    "#         type_mapping = {\n",
    "#                         \"StringType\": StringType,\n",
    "#                         \"FloatType\": FloatType,\n",
    "#                         \"IntegerType\": IntegerType,\n",
    "#                     }        \n",
    "#         fields = [\n",
    "#             StructField(field[\"name\"], type_mapping[field[\"type\"]](), field[\"nullable\"])\n",
    "#             for field in self.table_schema\n",
    "#         ]\n",
    "        \n",
    "#         return StructType(fields)\n",
    "\n",
    "#     def get_schema_columns(self):\n",
    "#         schema_columns = \", \".join([f\"{field.name} {field.dataType.simpleString()}\" for field in self.get_struct_type()])\n",
    "#         return schema_columns\n",
    "    \n",
    "#     def get_partition_columns(self):\n",
    "#         partition_columns = \", \".join([p[\"field\"] for p in self.table_partition_by]) if self.table_partition_by else \"\"\n",
    "#         return partition_columns\n",
    "        \n",
    "#     def get_column_list(self):\n",
    "#         # Extract the 'name' attribute from each field in the schema\n",
    "#         column_list = [field['name'] for field in self.table_schema]\n",
    "#         return column_list\n",
    "    \n",
    "#     def get_create_table_script(self):        \n",
    "#         # Create the Iceberg table\n",
    "#         script = f\"\"\"\n",
    "#         CREATE TABLE IF NOT EXISTS {self.table} ({self.get_schema_columns()})\n",
    "#         USING iceberg\n",
    "#         \"\"\"\n",
    "#         if self.get_partition_columns():\n",
    "#             script += f\" PARTITIONED BY ({self.get_partition_columns()})\"         \n",
    "#         return script"
   ]
  },
  {
   "cell_type": "code",
   "execution_count": 3,
   "id": "dafd9e6d-7c69-4935-85d9-4081d1930686",
   "metadata": {
    "tags": []
   },
   "outputs": [],
   "source": [
    "# zone='raw'\n",
    "# sink_table='raw.stock_eod_yfinance'\n",
    "# config_file_path='registered_table_schemas.yaml'\n",
    "# x=RegisteredTables(zone, sink_table, config_file_path)\n",
    "# # x=RegisteredTables('raw', 'raw.stock_eod_yfinance', 'registered_table_schemas.yaml')    \n",
    "# print(x.get_struct_type())      \n",
    "# # print(x.get_create_table_script()) "
   ]
  },
  {
   "cell_type": "code",
   "execution_count": 4,
   "id": "e073de66-3dd8-4cf4-a405-9a3407af9fef",
   "metadata": {
    "tags": []
   },
   "outputs": [],
   "source": [
    "import yaml\n",
    "from pyspark.sql.types import StringType, FloatType, IntegerType, StructType, StructField\n",
    "\n",
    "class TableManager:\n",
    "    def __init__(self, config_file_path):\n",
    "        self.config_file_path = config_file_path\n",
    "      \n",
    "        # Load YAML configuration\n",
    "        with open(self.config_file_path, 'r') as file:\n",
    "            self.config = yaml.safe_load(file)\n",
    "       \n",
    "    \n",
    "    def get_table_config(self, table_name):\n",
    "        # Retrieve table configuration\n",
    "        if \"tables\" not in self.config or table_name not in self.config[\"tables\"]:\n",
    "            raise ValueError(f\"Table {table_name} not found in configuration.\")\n",
    "        return self.config[\"tables\"][table_name]\n",
    "    \n",
    "    def get_struct_type(self, table_name):\n",
    "        # Map YAML types to PySpark types\n",
    "        type_mapping = {\n",
    "            \"StringType\": StringType,\n",
    "            \"FloatType\": FloatType,\n",
    "            \"IntegerType\": IntegerType,\n",
    "        }\n",
    "        table_config = self.get_table_config(table_name)\n",
    "        schema_config = table_config[\"schema\"]\n",
    "        \n",
    "        # Build StructType schema\n",
    "        fields = [\n",
    "            StructField(field[\"name\"], type_mapping[field[\"type\"]](), field[\"nullable\"])\n",
    "            for field in schema_config\n",
    "        ]\n",
    "        return StructType(fields)\n",
    "\n",
    "    def get_column_list(self, table_name):\n",
    "        # Extract the 'name' attribute from each field in the schema\n",
    "        table_config = self.get_table_config(table_name)\n",
    "        schema_config = table_config[\"schema\"]\n",
    "        column_list = [field['name'] for field in schema_config]\n",
    "        return column_list\n",
    "    \n",
    "    def get_create_table_query(self, table_name):\n",
    "        table_config = self.get_table_config(table_name)\n",
    "        schema = self.get_struct_type(table_name)\n",
    "        partition_by = table_config.get(\"partition_by\", [])\n",
    "        \n",
    "        # Generate SQL columns\n",
    "        columns = \", \".join([f\"{field.name} {field.dataType.simpleString()}\" for field in schema.fields])\n",
    "        partitioning = \", \".join([p[\"field\"] for p in partition_by]) if partition_by else \"\"\n",
    "        \n",
    "        # Generate CREATE TABLE query\n",
    "        create_table_query = f\"\"\"\n",
    "        CREATE TABLE IF NOT EXISTS {table_name} ({columns})\n",
    "        \"\"\"\n",
    "        if partitioning:\n",
    "            create_table_query += f\" PARTITIONED BY ({partitioning})\"\n",
    "        return create_table_query.strip()"
   ]
  },
  {
   "cell_type": "code",
   "execution_count": 5,
   "id": "9d533acd-fba1-4b84-9664-6c3d18230865",
   "metadata": {
    "tags": []
   },
   "outputs": [],
   "source": [
    "# table_name='raw.stock_eod_yfinance'\n",
    "# config_file_path='registered_table_schemas.yaml'\n",
    "# x=TableManager(config_file_path)\n",
    "# print(x.get_column_list('nessie.raw.stock_eod_yfinance'))\n",
    "\n",
    "# # x=RegisteredTables('raw', 'raw.stock_eod_yfinance', 'registered_table_schemas.yaml')    \n",
    "# # print(x.get_struct_type('raw.stock_eod_yfinance'))      \n",
    "# # print(x.get_create_table_script()) "
   ]
  },
  {
   "cell_type": "code",
   "execution_count": null,
   "id": "e2207786-e6f2-4631-9d70-13ad0345c985",
   "metadata": {},
   "outputs": [],
   "source": []
  },
  {
   "cell_type": "code",
   "execution_count": null,
   "id": "749ee3e7-a32b-48f8-8cbf-04a440fbfce4",
   "metadata": {},
   "outputs": [],
   "source": []
  },
  {
   "cell_type": "code",
   "execution_count": null,
   "id": "193f58f1-1500-4188-bc47-997a89eb0d82",
   "metadata": {},
   "outputs": [],
   "source": []
  },
  {
   "cell_type": "code",
   "execution_count": null,
   "id": "855f5ec9-957e-4619-8480-99fc02a0eae5",
   "metadata": {},
   "outputs": [],
   "source": []
  },
  {
   "cell_type": "code",
   "execution_count": null,
   "id": "ed64663b-7bb3-4d28-96cc-b9c9870caca3",
   "metadata": {},
   "outputs": [],
   "source": []
  },
  {
   "cell_type": "code",
   "execution_count": null,
   "id": "37ada8c5-04f9-447f-950e-dec0760fa8ed",
   "metadata": {},
   "outputs": [],
   "source": []
  },
  {
   "cell_type": "code",
   "execution_count": null,
   "id": "4f8092f0-3e25-4701-b71a-14cf7de2a97e",
   "metadata": {},
   "outputs": [],
   "source": []
  }
 ],
 "metadata": {
  "kernelspec": {
   "display_name": "Poetry",
   "language": "python",
   "name": "poetry-kernel"
  },
  "language_info": {
   "codemirror_mode": {
    "name": "ipython",
    "version": 3
   },
   "file_extension": ".py",
   "mimetype": "text/x-python",
   "name": "python",
   "nbconvert_exporter": "python",
   "pygments_lexer": "ipython3",
   "version": "3.10.12"
  }
 },
 "nbformat": 4,
 "nbformat_minor": 5
}
