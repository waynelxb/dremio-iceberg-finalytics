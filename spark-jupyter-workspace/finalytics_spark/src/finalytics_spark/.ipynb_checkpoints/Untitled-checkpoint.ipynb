{
 "cells": [
  {
   "cell_type": "code",
   "execution_count": 1,
   "id": "f7b3a6fe-9bf5-4ffa-863d-e0e8d1f8616e",
   "metadata": {
    "tags": []
   },
   "outputs": [
    {
     "name": "stdout",
     "output_type": "stream",
     "text": [
      "CREATE TABLE IF NOT EXISTS raw.stock_eod_yfinance (date string, open float, high float, low float, close float, volume int, dividends float, stock_splits float, symbol string, import_time string)\n",
      "        USING iceberg\n"
     ]
    }
   ],
   "source": [
    "# Import the TableManager class\n",
    "import nbimporter  # Required to import a class from another Jupyter notebook\n",
    "from lab_registered_tables import TableManager\n",
    "\n",
    "# Initialize the TableManager with the YAML file path\n",
    "config_file_path = \"registered_table_schemas.yaml\"\n",
    "table_manager = TableManager(config_file_path)\n",
    "\n",
    "# Get the CREATE TABLE query\n",
    "table_name = \"raw.stock_eod_yfinance\"\n",
    "create_table_query = table_manager.get_create_table_query(table_name)\n",
    "\n",
    "# Print the query\n",
    "print(create_table_query)\n",
    "\n",
    "# Optionally, execute the query in Spark\n",
    "from pyspark.sql import SparkSession\n",
    "\n",
    "# spark = SparkSession.builder \\\n",
    "#     .appName(\"IcebergTableManager\") \\\n",
    "#     .config(\"spark.sql.catalog.iceberg\", \"org.apache.iceberg.spark.SparkCatalog\") \\\n",
    "#     .config(\"spark.sql.catalog.iceberg.type\", \"hadoop\") \\\n",
    "#     .config(\"spark.sql.catalog.iceberg.warehouse\", \"path/to/warehouse\") \\\n",
    "#     .getOrCreate()\n",
    "\n",
    "# # Execute the query\n",
    "# spark.sql(create_table_query)"
   ]
  },
  {
   "cell_type": "code",
   "execution_count": null,
   "id": "b20688f1-3bff-48ad-992d-023be23fd542",
   "metadata": {},
   "outputs": [],
   "source": []
  }
 ],
 "metadata": {
  "kernelspec": {
   "display_name": "Poetry",
   "language": "python",
   "name": "poetry-kernel"
  },
  "language_info": {
   "codemirror_mode": {
    "name": "ipython",
    "version": 3
   },
   "file_extension": ".py",
   "mimetype": "text/x-python",
   "name": "python",
   "nbconvert_exporter": "python",
   "pygments_lexer": "ipython3",
   "version": "3.10.12"
  }
 },
 "nbformat": 4,
 "nbformat_minor": 5
}
