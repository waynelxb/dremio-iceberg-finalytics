{
 "cells": [
  {
   "cell_type": "code",
   "execution_count": null,
   "id": "639ab335-35ed-4d00-9ce9-5d708b21672e",
   "metadata": {},
   "outputs": [],
   "source": [
    "import os\n",
    "import yaml\n",
    "import nbimporter\n",
    "from datetime import datetime, date\n",
    "import time\n",
    "import random\n",
    "import pyspark\n",
    "from pyspark.sql import SparkSession\n",
    "from pyspark.sql.types import StructType, StructField, IntegerType, StringType, DoubleType,  DateType, TimestampType\n",
    "from pyspark.sql.functions import to_date, to_timestamp\n",
    "from lab_database_manager import PgDBManager\n",
    "from lab_spark import create_spark_session\n",
    "from lab_schema_manager import SchemaManager\n",
    "from lab_raw_yahoo_x import get_raw_yahoo, get_raw_yahoo_by_looping_groups\n",
    "from collections import defaultdict\n",
    "import warnings\n",
    "import logging\n",
    "import pandas as pd\n",
    "from lab_iceberg_manager import IcebergManager\n",
    "from collections import defaultdict"
   ]
  },
  {
   "cell_type": "markdown",
   "id": "efe9addc-5657-4ff5-ac30-2dcd14a23413",
   "metadata": {},
   "source": [
    "# Get Hist Data"
   ]
  },
  {
   "cell_type": "code",
   "execution_count": 8,
   "id": "123067ab-f994-4de4-9f63-6cce3afca0df",
   "metadata": {},
   "outputs": [
    {
     "name": "stdout",
     "output_type": "stream",
     "text": [
      "Group Date: 2024-11-15, Group Number: 486, Symbols: ['THCP', 'THCPU', 'VSTO', 'MRO', 'ARC', 'SRCL', 'VIEW', 'NSTG', 'GMDA', 'EIGR']\n",
      "Group Date: 2024-11-15, Group Number: 487, Symbols: ['STER']\n",
      "An error occurred: \"['date', 'symbol'] not in index\"\n"
     ]
    },
    {
     "name": "stderr",
     "output_type": "stream",
     "text": [
      "lab_raw_yahoo_x.ipynb:24: FutureWarning: The behavior of DataFrame concatenation with empty or all-NA entries is deprecated. In a future version, this will no longer exclude empty or all-NA columns when determining the result dtypes. To retain the old behavior, exclude the relevant entries before the concat operation.\n",
      "  \"        \\n\",\n"
     ]
    }
   ],
   "source": [
    "# Get finalytics connetion info\n",
    "conn_config_file='cfg_connections.yaml'\n",
    "pg_db=\"finalytics\"\n",
    "pg_db_mgr=PgDBManager(conn_config_file, pg_db)\n",
    "import_time = datetime.now()\n",
    "\n",
    "# Get symbol_start_date_pairs from finalytics\n",
    "query=\"SELECT group_id, group_start_date, symbol from fin.vw_etl_stock_eod_start_date_grouped  WHERE group_start_date <'2024-1-10' Limit 50;\"\n",
    "query_result=pg_db_mgr.get_sql_script_result_list(query)\n",
    "\n",
    "yahoo_api=\"yahooquery\"\n",
    "hist_data=get_raw_yahoo_by_looping_groups(yahoo_api, query_result)\n",
    "hist_data[\"import_time\"] = pd.to_datetime(import_time).tz_localize(None)\n",
    "\n",
    "# print(query_result)\n"
   ]
  },
  {
   "cell_type": "markdown",
   "id": "c42cc7c2-beb5-4efa-a05f-d6232ec8bdeb",
   "metadata": {},
   "source": [
    "# Load Iceberg Table"
   ]
  },
  {
   "cell_type": "code",
   "execution_count": null,
   "id": "363ae362-2a49-4cc1-bacb-e96a3ffabac6",
   "metadata": {},
   "outputs": [],
   "source": [
    "# Create Spark Session\n",
    "conn_config_file=\"cfg_connections.yaml\"\n",
    "schema_config_file='cfg_schemas.yaml'\n",
    "spark_app_name=\"raw_yfinance\"\n",
    "iceberg_raw_stock_eod_table='nessie.raw.stock_eod_yahooquery'\n",
    "\n",
    "my_iceberg_manager=IcebergManager(conn_config_file, schema_config_file, spark_app_name) \n",
    "\n",
    "my_spark_session = my_iceberg_manager.get_spark_session()\n",
    "hist_df = my_spark_session.createDataFrame(hist_data)\n",
    "\n",
    "my_iceberg_manager.truncate_iceberg_table(iceberg_raw_stock_eod_table)\n",
    "my_iceberg_manager.insert_into_iceberg_table(hist_df, iceberg_raw_stock_eod_table)\n",
    "\n",
    "\n",
    "# spark.sql(\"CREATE NAMESPACE IF NOT EXISTS nessie.raw;\")"
   ]
  },
  {
   "cell_type": "markdown",
   "id": "28104eba-f0d5-4cc6-a5a5-5a8615cf2359",
   "metadata": {},
   "source": [
    "# Function: Insert Data into PG Table"
   ]
  },
  {
   "cell_type": "code",
   "execution_count": null,
   "id": "22168854-440f-47aa-9be7-f0c13adef044",
   "metadata": {},
   "outputs": [],
   "source": [
    "def insert_iceberg_data_into_pg(conn_config_file, spark_session, iceberg_source_table, pg_database, pg_sink_table, is_pg_truncate_enabled, is_pg_merge_enabled):   \n",
    "    try:    \n",
    "        df_source=spark_session.read.table(iceberg_source_table)          \n",
    "\n",
    "        pg_db_mgr=PgDBManager(conn_config_file, pg_database)\n",
    "        pg_url=pg_db_mgr.jdbc_url\n",
    "        pg_driver=pg_db_mgr.driver\n",
    "\n",
    "        if is_pg_truncate_enabled == True:\n",
    "            pg_truncate_script=f\"TRUNCATE TABLE {pg_sink_table}\"\n",
    "            pg_db_mgr.execute_sql_script(pg_truncate_script)\n",
    "        \n",
    "        # Write DataFrame to PostgreSQL\n",
    "        df_source.write.jdbc(url=pg_url, table=pg_sink_table, mode=\"append\", properties={\"driver\": pg_driver}) \n",
    "\n",
    "        if is_pg_merge_enabled == True:\n",
    "            pg_merge_script = \"call fin.usp_load_stock_eod();\"\n",
    "            pg_db_mgr.execute_sql_script(pg_merge_script)\n",
    "            \n",
    "    except Exception as e:\n",
    "        print(f\"Error loading pg finalytics: {e}\")       "
   ]
  },
  {
   "cell_type": "code",
   "execution_count": null,
   "id": "6a558a80-e6c2-497c-875e-69cc8a6921a3",
   "metadata": {},
   "outputs": [],
   "source": [
    "pg_table='stage.stock_eod_quote_yahoo'\n",
    "is_pg_truncate_enabled=True\n",
    "is_pg_merge_enabled=True\n",
    "insert_iceberg_data_into_pg(conn_config_file, my_spark_session, iceberg_raw_stock_eod_table, pg_db, pg_table, is_pg_truncate_enabled, is_pg_merge_enabled)  "
   ]
  }
 ],
 "metadata": {
  "kernelspec": {
   "display_name": "Poetry",
   "language": "python",
   "name": "poetry-kernel"
  },
  "language_info": {
   "codemirror_mode": {
    "name": "ipython",
    "version": 3
   },
   "file_extension": ".py",
   "mimetype": "text/x-python",
   "name": "python",
   "nbconvert_exporter": "python",
   "pygments_lexer": "ipython3",
   "version": "3.10.12"
  }
 },
 "nbformat": 4,
 "nbformat_minor": 5
}
