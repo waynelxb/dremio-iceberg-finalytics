{
 "cells": [
  {
   "cell_type": "code",
   "execution_count": 1,
   "id": "e073de66-3dd8-4cf4-a405-9a3407af9fef",
   "metadata": {
    "tags": []
   },
   "outputs": [],
   "source": [
    "import yaml\n",
    "from pyspark.sql.types import StringType, FloatType, IntegerType, StructType, StructField,  DateType, TimestampType\n",
    "\n",
    "class TableManager:\n",
    "    def __init__(self, config_file_path):\n",
    "        self.config_file_path = config_file_path\n",
    "      \n",
    "        # Load YAML configuration\n",
    "        with open(self.config_file_path, 'r') as file:\n",
    "            self.config = yaml.safe_load(file)\n",
    "       \n",
    "    \n",
    "    def get_table_config(self, table_name):\n",
    "        # Retrieve table configuration\n",
    "        if \"tables\" not in self.config or table_name not in self.config[\"tables\"]:\n",
    "            raise ValueError(f\"Table {table_name} not found in configuration.\")\n",
    "        return self.config[\"tables\"][table_name]\n",
    "    \n",
    "    def get_struct_type(self, table_name):\n",
    "        # Map YAML types to PySpark types\n",
    "        type_mapping = {\n",
    "            \"StringType\": StringType,\n",
    "            \"FloatType\": FloatType,\n",
    "            \"IntegerType\": IntegerType,\n",
    "            'DateType': DateType(),\n",
    "            'TimestampType': TimestampType(),\n",
    "        }\n",
    "        table_config = self.get_table_config(table_name)\n",
    "        schema_config = table_config[\"schema\"]\n",
    "        \n",
    "        # Build StructType schema\n",
    "        fields = [\n",
    "            StructField(field[\"name\"], type_mapping[field[\"type\"]](), field[\"nullable\"])\n",
    "            for field in schema_config\n",
    "        ]\n",
    "        return StructType(fields)\n",
    "\n",
    "    def get_column_list(self, table_name):\n",
    "        # Extract the 'name' attribute from each field in the schema\n",
    "        table_config = self.get_table_config(table_name)\n",
    "        schema_config = table_config[\"schema\"]\n",
    "        column_list = [field['name'] for field in schema_config]\n",
    "        return column_list\n",
    "    \n",
    "    def get_create_table_query(self, table_name):\n",
    "        table_config = self.get_table_config(table_name)\n",
    "        schema = self.get_struct_type(table_name)\n",
    "        partition_by = table_config.get(\"partition_by\", [])\n",
    "        \n",
    "        # Generate SQL columns\n",
    "        columns = \", \".join([f\"{field.name} {field.dataType.simpleString()}\" for field in schema.fields])\n",
    "        partitioning = \", \".join([p[\"field\"] for p in partition_by]) if partition_by else \"\"\n",
    "        \n",
    "        # Generate CREATE TABLE query\n",
    "        create_table_query = f\"\"\"\n",
    "        CREATE TABLE IF NOT EXISTS {table_name} ({columns})\n",
    "        \"\"\"\n",
    "        if partitioning:\n",
    "            create_table_query += f\" PARTITIONED BY ({partitioning})\"\n",
    "        return create_table_query.strip()"
   ]
  }
 ],
 "metadata": {
  "kernelspec": {
   "display_name": "Poetry",
   "language": "python",
   "name": "poetry-kernel"
  },
  "language_info": {
   "codemirror_mode": {
    "name": "ipython",
    "version": 3
   },
   "file_extension": ".py",
   "mimetype": "text/x-python",
   "name": "python",
   "nbconvert_exporter": "python",
   "pygments_lexer": "ipython3",
   "version": "3.10.12"
  }
 },
 "nbformat": 4,
 "nbformat_minor": 5
}
