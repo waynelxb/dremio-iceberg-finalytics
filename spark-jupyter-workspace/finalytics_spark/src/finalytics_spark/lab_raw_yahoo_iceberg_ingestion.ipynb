{
 "cells": [
  {
   "cell_type": "code",
   "execution_count": 1,
   "id": "639ab335-35ed-4d00-9ce9-5d708b21672e",
   "metadata": {},
   "outputs": [],
   "source": [
    "import os\n",
    "import yaml\n",
    "import nbimporter\n",
    "import warnings\n",
    "import logging\n",
    "import pandas as pd\n",
    "from datetime import datetime, date\n",
    "import pyspark\n",
    "from pyspark.sql import SparkSession\n",
    "\n",
    "from lab_database_manager import PgDBManager\n",
    "from lab_schema_manager import SchemaManager\n",
    "from lab_raw_yahoo import get_raw_yahoo, get_raw_yahoo_by_looping_groups\n",
    "from lab_iceberg_manager import IcebergManager\n",
    "from lab_iceberg_pg_operator import IcebergPgOperator\n"
   ]
  },
  {
   "cell_type": "code",
   "execution_count": null,
   "id": "538329d4-d2b3-4c31-bbb0-e3517ad3c115",
   "metadata": {},
   "outputs": [],
   "source": []
  },
  {
   "cell_type": "markdown",
   "id": "fe8da080-d690-4d06-bb48-2d478d1f607b",
   "metadata": {},
   "source": [
    "# Get Finalytics Connetion and Create a PgDBManager"
   ]
  },
  {
   "cell_type": "code",
   "execution_count": 2,
   "id": "eaff5154-71fb-43e9-a8eb-70d0ab56a7af",
   "metadata": {},
   "outputs": [],
   "source": [
    "# Get finalytics connetion info\n",
    "conn_config_file='cfg_connections.yaml'\n",
    "pg_db=\"finalytics\"\n",
    "pg_db_mgr=PgDBManager(conn_config_file, pg_db)\n",
    "\n",
    "pg_jdbc_url=pg_db_mgr.jdbc_url\n",
    "pg_jdbc_properties =pg_db_mgr.jdbc_properties"
   ]
  },
  {
   "cell_type": "markdown",
   "id": "2f50eae2-cdc0-4c4d-b673-31fc7b7637fd",
   "metadata": {},
   "source": [
    "### Get group_date_symbol_list from finalytics"
   ]
  },
  {
   "cell_type": "code",
   "execution_count": 3,
   "id": "18d8da5a-3751-4baf-a85e-7ecf813dbe1b",
   "metadata": {},
   "outputs": [],
   "source": [
    "# Get symbol_start_date_pairs from finalytics\n",
    "query=\"SELECT group_id, group_start_date, symbol from fin.vw_etl_stock_eod_start_date_grouped where group_start_date <'2025-1-8'\"\n",
    "query_result=pg_db_mgr.get_sql_script_result_list(query)"
   ]
  },
  {
   "cell_type": "markdown",
   "id": "efe9addc-5657-4ff5-ac30-2dcd14a23413",
   "metadata": {},
   "source": [
    "# Get Yahoo Hist Data"
   ]
  },
  {
   "cell_type": "code",
   "execution_count": 4,
   "id": "123067ab-f994-4de4-9f63-6cce3afca0df",
   "metadata": {},
   "outputs": [],
   "source": [
    "import_time = datetime.now()\n",
    "yahoo_api=\"yahooquery\"\n",
    "hist_data=get_raw_yahoo_by_looping_groups(yahoo_api, query_result)\n",
    "hist_data[\"import_time\"] = pd.to_datetime(import_time).tz_localize(None)"
   ]
  },
  {
   "cell_type": "markdown",
   "id": "92c6e49b-7443-465b-82ff-bb681e515dcd",
   "metadata": {},
   "source": [
    "# Get Iceberg Connection and Create an IcebergManager"
   ]
  },
  {
   "cell_type": "code",
   "execution_count": 5,
   "id": "c72965cf-3f37-4fc3-a9d6-38d36b0b959c",
   "metadata": {},
   "outputs": [
    {
     "name": "stdout",
     "output_type": "stream",
     "text": [
      ":: loading settings :: url = jar:file:/opt/spark/jars/ivy-2.5.1.jar!/org/apache/ivy/core/settings/ivysettings.xml\n"
     ]
    },
    {
     "name": "stderr",
     "output_type": "stream",
     "text": [
      "Ivy Default Cache set to: /root/.ivy2/cache\n",
      "The jars for the packages stored in: /root/.ivy2/jars\n",
      "org.postgresql#postgresql added as a dependency\n",
      "org.apache.iceberg#iceberg-spark-runtime-3.5_2.12 added as a dependency\n",
      "org.projectnessie.nessie-integrations#nessie-spark-extensions-3.5_2.12 added as a dependency\n",
      "software.amazon.awssdk#bundle added as a dependency\n",
      "software.amazon.awssdk#url-connection-client added as a dependency\n",
      ":: resolving dependencies :: org.apache.spark#spark-submit-parent-453252d7-a617-4a6a-bff7-fd5316d3b87c;1.0\n",
      "\tconfs: [default]\n",
      "\tfound org.postgresql#postgresql;42.7.3 in central\n",
      "\tfound org.checkerframework#checker-qual;3.42.0 in central\n",
      "\tfound org.apache.iceberg#iceberg-spark-runtime-3.5_2.12;1.5.0 in central\n",
      "\tfound org.projectnessie.nessie-integrations#nessie-spark-extensions-3.5_2.12;0.77.1 in central\n",
      "\tfound software.amazon.awssdk#bundle;2.24.8 in central\n",
      "\tfound software.amazon.awssdk#url-connection-client;2.24.8 in central\n",
      "\tfound software.amazon.awssdk#utils;2.24.8 in central\n",
      "\tfound org.reactivestreams#reactive-streams;1.0.4 in central\n",
      "\tfound software.amazon.awssdk#annotations;2.24.8 in central\n",
      "\tfound org.slf4j#slf4j-api;1.7.30 in central\n",
      "\tfound software.amazon.awssdk#http-client-spi;2.24.8 in central\n",
      "\tfound software.amazon.awssdk#metrics-spi;2.24.8 in central\n",
      ":: resolution report :: resolve 453ms :: artifacts dl 14ms\n",
      "\t:: modules in use:\n",
      "\torg.apache.iceberg#iceberg-spark-runtime-3.5_2.12;1.5.0 from central in [default]\n",
      "\torg.checkerframework#checker-qual;3.42.0 from central in [default]\n",
      "\torg.postgresql#postgresql;42.7.3 from central in [default]\n",
      "\torg.projectnessie.nessie-integrations#nessie-spark-extensions-3.5_2.12;0.77.1 from central in [default]\n",
      "\torg.reactivestreams#reactive-streams;1.0.4 from central in [default]\n",
      "\torg.slf4j#slf4j-api;1.7.30 from central in [default]\n",
      "\tsoftware.amazon.awssdk#annotations;2.24.8 from central in [default]\n",
      "\tsoftware.amazon.awssdk#bundle;2.24.8 from central in [default]\n",
      "\tsoftware.amazon.awssdk#http-client-spi;2.24.8 from central in [default]\n",
      "\tsoftware.amazon.awssdk#metrics-spi;2.24.8 from central in [default]\n",
      "\tsoftware.amazon.awssdk#url-connection-client;2.24.8 from central in [default]\n",
      "\tsoftware.amazon.awssdk#utils;2.24.8 from central in [default]\n",
      "\t---------------------------------------------------------------------\n",
      "\t|                  |            modules            ||   artifacts   |\n",
      "\t|       conf       | number| search|dwnlded|evicted|| number|dwnlded|\n",
      "\t---------------------------------------------------------------------\n",
      "\t|      default     |   12  |   0   |   0   |   0   ||   12  |   0   |\n",
      "\t---------------------------------------------------------------------\n",
      ":: retrieving :: org.apache.spark#spark-submit-parent-453252d7-a617-4a6a-bff7-fd5316d3b87c\n",
      "\tconfs: [default]\n",
      "\t0 artifacts copied, 12 already retrieved (0kB/8ms)\n",
      "25/01/11 22:51:27 WARN NativeCodeLoader: Unable to load native-hadoop library for your platform... using builtin-java classes where applicable\n",
      "Setting default log level to \"WARN\".\n",
      "To adjust logging level use sc.setLogLevel(newLevel). For SparkR, use setLogLevel(newLevel).\n"
     ]
    }
   ],
   "source": [
    "# Create Spark Session\n",
    "conn_config_file=\"cfg_connections.yaml\"\n",
    "schema_config_file='cfg_schemas.yaml'\n",
    "spark_app_name=\"raw_yfinance\"\n",
    "iceberg_raw_stock_eod_table='nessie.raw.stock_eod_yahooquery'\n",
    "my_iceberg_manager=IcebergManager(conn_config_file, schema_config_file, spark_app_name) "
   ]
  },
  {
   "cell_type": "markdown",
   "id": "c42cc7c2-beb5-4efa-a05f-d6232ec8bdeb",
   "metadata": {},
   "source": [
    "### Load Iceberg Table"
   ]
  },
  {
   "cell_type": "code",
   "execution_count": 6,
   "id": "363ae362-2a49-4cc1-bacb-e96a3ffabac6",
   "metadata": {},
   "outputs": [
    {
     "name": "stderr",
     "output_type": "stream",
     "text": [
      "SLF4J: Failed to load class \"org.slf4j.impl.StaticLoggerBinder\".\n",
      "SLF4J: Defaulting to no-operation (NOP) logger implementation\n",
      "SLF4J: See http://www.slf4j.org/codes.html#StaticLoggerBinder for further details.\n"
     ]
    },
    {
     "name": "stdout",
     "output_type": "stream",
     "text": [
      "Iceberg table nessie.raw.stock_eod_yahooquery truncated successfully.\n"
     ]
    },
    {
     "name": "stderr",
     "output_type": "stream",
     "text": [
      "                                                                                "
     ]
    },
    {
     "name": "stdout",
     "output_type": "stream",
     "text": [
      "nessie.raw.stock_eod_yahooquery was loaded with 30 records, totally 30 records.\n"
     ]
    }
   ],
   "source": [
    "my_spark_session = my_iceberg_manager.get_spark_session()\n",
    "hist_df = my_spark_session.createDataFrame(hist_data)\n",
    "\n",
    "my_iceberg_manager.truncate_iceberg_table(iceberg_raw_stock_eod_table)\n",
    "my_iceberg_manager.insert_into_iceberg_table(hist_df, iceberg_raw_stock_eod_table)\n",
    "\n",
    "# spark.sql(\"CREATE NAMESPACE IF NOT EXISTS nessie.raw;\")"
   ]
  },
  {
   "cell_type": "markdown",
   "id": "28104eba-f0d5-4cc6-a5a5-5a8615cf2359",
   "metadata": {},
   "source": [
    "# Load data from Iceberg to Pg with an IcebergPgOperator"
   ]
  },
  {
   "cell_type": "code",
   "execution_count": 7,
   "id": "22168854-440f-47aa-9be7-f0c13adef044",
   "metadata": {},
   "outputs": [
    {
     "name": "stderr",
     "output_type": "stream",
     "text": [
      "                                                                                "
     ]
    }
   ],
   "source": [
    "pg_table='stage.stock_eod_quote_yahoo'\n",
    "pg_truncate_script=f\"TRUNCATE TABLE {pg_table}\"\n",
    "pg_db_mgr.execute_sql_script(pg_truncate_script)\n",
    "\n",
    "my_iceberg_pg_operator=IcebergPgOperator(my_spark_session, pg_jdbc_url, pg_jdbc_properties)\n",
    "jdbc_mode=\"append\"\n",
    "my_iceberg_pg_operator.insert_iceberg_data_into_pg(iceberg_raw_stock_eod_table, pg_table, jdbc_mode)\n"
   ]
  },
  {
   "cell_type": "markdown",
   "id": "9aabb9d5-34e2-44cc-a471-24e2cc9470c5",
   "metadata": {},
   "source": [
    "# Merge Pg stage into fin"
   ]
  },
  {
   "cell_type": "code",
   "execution_count": 8,
   "id": "6ebde675-0273-414f-a579-d548c1f5674b",
   "metadata": {},
   "outputs": [],
   "source": [
    "pg_merge_script = \"call fin.usp_load_stock_eod();\"\n",
    "pg_db_mgr.execute_sql_script(pg_merge_script)"
   ]
  }
 ],
 "metadata": {
  "kernelspec": {
   "display_name": "Poetry",
   "language": "python",
   "name": "poetry-kernel"
  },
  "language_info": {
   "codemirror_mode": {
    "name": "ipython",
    "version": 3
   },
   "file_extension": ".py",
   "mimetype": "text/x-python",
   "name": "python",
   "nbconvert_exporter": "python",
   "pygments_lexer": "ipython3",
   "version": "3.10.12"
  }
 },
 "nbformat": 4,
 "nbformat_minor": 5
}
