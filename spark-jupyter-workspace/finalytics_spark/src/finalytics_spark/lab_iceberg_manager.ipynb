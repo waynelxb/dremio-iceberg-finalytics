{
 "cells": [
  {
   "cell_type": "code",
   "execution_count": 32,
   "id": "d9e08d3e-6d4f-4e9f-b77e-80e7c395536a",
   "metadata": {},
   "outputs": [],
   "source": [
    "import yaml\n",
    "import nbimporter\n",
    "import pyspark\n",
    "from pyspark.sql import SparkSession\n",
    "from lab_schema_manager import SchemaManager\n",
    "\n",
    "\n",
    "class IcebergManager:\n",
    "    def __init__(self, spark_config_file, iceberg_schema_config_file, spark_app_name):\n",
    "        self.spark_config_file = spark_config_file\n",
    "        self.spark_app_name=spark_app_name\n",
    "        self.iceberg_schema_config_file=iceberg_schema_config_file\n",
    "        self.spark = self._create_spark_session()\n",
    "        \n",
    "    def _create_spark_session(self)->SparkSession:\n",
    "       try:  \n",
    "            with open(self.spark_config_file,\"r\") as file:\n",
    "                config=yaml.safe_load(file)\n",
    "                catalog_uri = config['spark']['catalog_uri'] \n",
    "                warehouse = config['spark']['warehouse']     # Minio Address to Write to\n",
    "                storage_uri = config['spark']['storage_uri'] # Minio IP address from docker inspec\n",
    "                spark_master_uri = config['spark']['spark_master_uri'] # Minio IP address from docker inspec\n",
    "            \n",
    "            # Configure Spark with necessary packages and Iceberg/Nessie settings\n",
    "            conf = (\n",
    "                pyspark.SparkConf()\n",
    "                    .setAppName(self.spark_app_name)\n",
    "                    # Include necessary packages\n",
    "                    .set('spark.jars.packages',\n",
    "                         'org.postgresql:postgresql:42.7.3,'\n",
    "                         'org.apache.iceberg:iceberg-spark-runtime-3.5_2.12:1.5.0,'\n",
    "                         'org.projectnessie.nessie-integrations:nessie-spark-extensions-3.5_2.12:0.77.1,'             \n",
    "                         # awssdk 2.29.42 compatible with spark 3.5.4\n",
    "                         'software.amazon.awssdk:bundle:2.24.8,'\n",
    "                         'software.amazon.awssdk:url-connection-client:2.24.8')\n",
    "                    # Enable Iceberg and Nessie extensions\n",
    "                    .set('spark.sql.extensions', \n",
    "                         'org.apache.iceberg.spark.extensions.IcebergSparkSessionExtensions,'\n",
    "                         'org.projectnessie.spark.extensions.NessieSparkSessionExtensions')\n",
    "                    # Configure Nessie catalog\n",
    "                    .set('spark.sql.catalog.nessie', 'org.apache.iceberg.spark.SparkCatalog')\n",
    "                    .set('spark.sql.catalog.nessie.uri', catalog_uri)\n",
    "                    .set('spark.sql.catalog.nessie.ref', 'main')\n",
    "                    .set('spark.sql.catalog.nessie.authentication.type', 'NONE')\n",
    "                    .set('spark.sql.catalog.nessie.catalog-impl', 'org.apache.iceberg.nessie.NessieCatalog')\n",
    "                    # Set Minio as the S3 endpoint for Iceberg storage\n",
    "                    .set('spark.sql.catalog.nessie.s3.endpoint', storage_uri)\n",
    "                    .set('spark.sql.catalog.nessie.warehouse', warehouse)\n",
    "                    .set('spark.sql.catalog.nessie.io-impl', 'org.apache.iceberg.aws.s3.S3FileIO')\n",
    "                    # Set master location, the job will be sent to the cluster\n",
    "                    # .set('spark.master', spark_master_uri)\n",
    "                    .set(\"spark.network.timeout\", \"50000s\")\n",
    "                    .set(\"spark.executor.heartbeatInterval\", \"60s\")\n",
    "                    .set(\"spark.task.maxFailures\", \"4\") \n",
    "            )   \n",
    "            \n",
    "            # Start Spark session\n",
    "            return SparkSession.builder.config(conf=conf).getOrCreate()\n",
    "   \n",
    "       except Exception as e:\n",
    "            print(f\"Error: {e}\")\n",
    "           \n",
    "    def get_spark_session(self):\n",
    "        return self.spark\n",
    "\n",
    "\n",
    "    def insert_into_iceberg_table(self, spark_source_df, iceberg_sink_table):\n",
    "        try: \n",
    "            schema_manager=SchemaManager(self.iceberg_schema_config_file)\n",
    "            schema_struct_type=schema_manager.get_struct_type(\"tables\", iceberg_sink_table)  \n",
    "            \n",
    "            create_table_script = schema_manager.get_create_table_query(\"tables\", iceberg_sink_table)\n",
    "            self.spark.sql(create_table_script)\n",
    "         \n",
    "            spark_source_df.writeTo(iceberg_sink_table).append()\n",
    "            # source_spark_df.write.mode(\"overwrite\").saveAsTable(iceberg_sink_table) \n",
    "    \n",
    "            incremental_count=spark_source_df.count()\n",
    "            total_count=self.spark.table(iceberg_sink_table).count()\n",
    "    \n",
    "            print(f\"{iceberg_sink_table} was loaded with {incremental_count} records, totally {total_count} records.\")\n",
    "            \n",
    "        except Exception as e:\n",
    "            print(f\"Error loading lceberg raw table: {e}\")\n",
    "    \n",
    "\n",
    "    def truncate_iceberg_table(self, iceberg_table):      \n",
    "        # Check if the Iceberg table exists and truncate it if it does\n",
    "        if self.spark.catalog.tableExists(iceberg_table):\n",
    "            self.spark.sql(f\"TRUNCATE TABLE {iceberg_table}\")\n",
    "            print(f\"Iceberg table {iceberg_table} truncated successfully.\")\n",
    "        else:\n",
    "            print(f\"Iceberg table {iceberg_table} does not exist.\")\n",
    "\n",
    "    "
   ]
  },
  {
   "cell_type": "code",
   "execution_count": 33,
   "id": "1c464c28-b53b-4ad7-ac66-b32717365ffa",
   "metadata": {},
   "outputs": [
    {
     "name": "stdout",
     "output_type": "stream",
     "text": [
      "Iceberg table nessie.raw.stock_eod_yahooquery truncated successfully.\n"
     ]
    }
   ],
   "source": [
    "my_iceberg_manager=IcebergManager('cfg_connections.yaml', 'cfg_schemas.yaml', 'fin_spark_app') \n",
    "my_iceberg_manager.truncate_iceberg_table('nessie.raw.stock_eod_yahooquery')"
   ]
  },
  {
   "cell_type": "code",
   "execution_count": 34,
   "id": "e4873be7-40fc-413e-bcfd-f60f8029e2d1",
   "metadata": {},
   "outputs": [
    {
     "name": "stdout",
     "output_type": "stream",
     "text": [
      "Iceberg table nessie.raw.stock_eod_yahooquery truncated successfully.\n"
     ]
    }
   ],
   "source": [
    "my_iceberg_manager.truncate_iceberg_table('nessie.raw.stock_eod_yahooquery')"
   ]
  },
  {
   "cell_type": "code",
   "execution_count": null,
   "id": "57d016cb-0c25-4bf5-941b-739ad1dfd66e",
   "metadata": {},
   "outputs": [],
   "source": []
  }
 ],
 "metadata": {
  "kernelspec": {
   "display_name": "Poetry",
   "language": "python",
   "name": "poetry-kernel"
  },
  "language_info": {
   "codemirror_mode": {
    "name": "ipython",
    "version": 3
   },
   "file_extension": ".py",
   "mimetype": "text/x-python",
   "name": "python",
   "nbconvert_exporter": "python",
   "pygments_lexer": "ipython3",
   "version": "3.10.12"
  }
 },
 "nbformat": 4,
 "nbformat_minor": 5
}
