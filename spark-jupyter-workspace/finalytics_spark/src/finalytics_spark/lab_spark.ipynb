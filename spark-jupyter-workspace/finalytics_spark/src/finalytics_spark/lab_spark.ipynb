{
 "cells": [
  {
   "cell_type": "code",
   "execution_count": null,
   "id": "d9e08d3e-6d4f-4e9f-b77e-80e7c395536a",
   "metadata": {},
   "outputs": [],
   "source": [
    "import yaml\n",
    "import nbimporter\n",
    "import pyspark\n",
    "from pyspark.sql import SparkSession\n",
    "\n",
    "def create_spark_session(config_file, app_name)->SparkSession:\n",
    "   try:  \n",
    "        with open(config_file,\"r\") as file:\n",
    "            config=yaml.safe_load(file)\n",
    "            catalog_uri = config['spark']['catalog_uri'] \n",
    "            warehouse = config['spark']['warehouse']     # Minio Address to Write to\n",
    "            storage_uri = config['spark']['storage_uri'] # Minio IP address from docker inspec\n",
    "            spark_master_uri = config['spark']['spark_master_uri'] # Minio IP address from docker inspec\n",
    "        \n",
    "        # Configure Spark with necessary packages and Iceberg/Nessie settings\n",
    "        conf = (\n",
    "            pyspark.SparkConf()\n",
    "                .setAppName(app_name)\n",
    "                # Include necessary packages\n",
    "                .set('spark.jars.packages',\n",
    "                     'org.postgresql:postgresql:42.7.3,'\n",
    "                     'org.apache.iceberg:iceberg-spark-runtime-3.5_2.12:1.5.0,'\n",
    "                     'org.projectnessie.nessie-integrations:nessie-spark-extensions-3.5_2.12:0.77.1,'             \n",
    "                     # awssdk 2.29.42 compatible with spark 3.5.4\n",
    "                     'software.amazon.awssdk:bundle:2.24.8,'\n",
    "                     'software.amazon.awssdk:url-connection-client:2.24.8')\n",
    "                # Enable Iceberg and Nessie extensions\n",
    "                .set('spark.sql.extensions', \n",
    "                     'org.apache.iceberg.spark.extensions.IcebergSparkSessionExtensions,'\n",
    "                     'org.projectnessie.spark.extensions.NessieSparkSessionExtensions')\n",
    "                # Configure Nessie catalog\n",
    "                .set('spark.sql.catalog.nessie', 'org.apache.iceberg.spark.SparkCatalog')\n",
    "                .set('spark.sql.catalog.nessie.uri', catalog_uri)\n",
    "                .set('spark.sql.catalog.nessie.ref', 'main')\n",
    "                .set('spark.sql.catalog.nessie.authentication.type', 'NONE')\n",
    "                .set('spark.sql.catalog.nessie.catalog-impl', 'org.apache.iceberg.nessie.NessieCatalog')\n",
    "                # Set Minio as the S3 endpoint for Iceberg storage\n",
    "                .set('spark.sql.catalog.nessie.s3.endpoint', storage_uri)\n",
    "                .set('spark.sql.catalog.nessie.warehouse', warehouse)\n",
    "                .set('spark.sql.catalog.nessie.io-impl', 'org.apache.iceberg.aws.s3.S3FileIO')\n",
    "                # Set master location, the job will be sent to the cluster\n",
    "                # .set('spark.master', spark_master_uri)\n",
    "                .set(\"spark.network.timeout\", \"50000s\")\n",
    "                .set(\"spark.executor.heartbeatInterval\", \"60s\")\n",
    "                .set(\"spark.task.maxFailures\", \"4\") \n",
    "        )   \n",
    "        \n",
    "        # Start Spark session\n",
    "        spark = SparkSession.builder.config(conf=conf).getOrCreate()\n",
    "        \n",
    "        return spark\n",
    "\n",
    "   except Exception as e:\n",
    "        print(f\"Error: {e}\")"
   ]
  }
 ],
 "metadata": {
  "kernelspec": {
   "display_name": "Poetry",
   "language": "python",
   "name": "poetry-kernel"
  },
  "language_info": {
   "codemirror_mode": {
    "name": "ipython",
    "version": 3
   },
   "file_extension": ".py",
   "mimetype": "text/x-python",
   "name": "python",
   "nbconvert_exporter": "python",
   "pygments_lexer": "ipython3",
   "version": "3.10.12"
  }
 },
 "nbformat": 4,
 "nbformat_minor": 5
}
