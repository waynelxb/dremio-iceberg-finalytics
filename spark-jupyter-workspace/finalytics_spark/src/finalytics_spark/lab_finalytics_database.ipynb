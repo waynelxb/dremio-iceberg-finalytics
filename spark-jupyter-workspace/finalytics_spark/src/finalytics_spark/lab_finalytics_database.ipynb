{
 "cells": [
  {
   "cell_type": "code",
   "execution_count": 4,
   "id": "07526e02-1246-4c91-87d0-b4d37f83f3c7",
   "metadata": {},
   "outputs": [],
   "source": [
    "import psycopg2\n",
    "import yaml\n",
    "\n",
    "class FinalyticsDB:\n",
    "\n",
    "    def __init__(self, config_file_path):\n",
    "        self.config_file_path = config_file_path      \n",
    "        # Load YAML configuration\n",
    "        with open(self.config_file_path, 'r') as file:\n",
    "            config = yaml.safe_load(file)\n",
    "            self.db_conn_params = config['database']['postgresql']        \n",
    "\n",
    "    def get_symbol_start_date_pairs(self, query):\n",
    "        try:\n",
    "            with psycopg2.connect(**self.db_conn_params) as conn:  # Connection context\n",
    "                with conn.cursor() as cursor:  # Cursor context\n",
    "                    # Execute query\n",
    "                    cursor.execute(query)\n",
    "                    # Fetch results\n",
    "                    results = cursor.fetchall()\n",
    "            return results\n",
    "        except Exception as e:\n",
    "            print(f\"An error occurred: {e}\")\n",
    "            return None\n",
    "\n",
    "    def execute_sql_script(self, sql_script):\n",
    "        try:\n",
    "            with psycopg2.connect(**self.db_conn_params) as conn:\n",
    "                with conn.cursor() as cursor:  # Cursor context\n",
    "                    cursor.execute(sql_script)\n",
    "                    # conn.commit()\n",
    "        except Exception as e:\n",
    "            print(f\"An error occurred: {e}\")\n"
   ]
  },
  {
   "cell_type": "code",
   "execution_count": 7,
   "id": "b3dec093-879f-402f-b069-ad84abb0b5e4",
   "metadata": {},
   "outputs": [
    {
     "name": "stdout",
     "output_type": "stream",
     "text": [
      "[('A', datetime.date(2024, 12, 13)), ('AA', datetime.date(2024, 12, 13)), ('AACG', datetime.date(2024, 12, 13)), ('AADI', datetime.date(2024, 12, 13)), ('AAL', datetime.date(2024, 12, 13)), ('AAME', datetime.date(2024, 12, 13)), ('AAOI', datetime.date(2024, 12, 13)), ('AAON', datetime.date(2024, 12, 13)), ('AAP', datetime.date(2024, 12, 13)), ('AAPL', datetime.date(2024, 12, 13))]\n"
     ]
    }
   ],
   "source": [
    "          \n",
    "# yf_param_pairs = [\n",
    "#     ('AAPL', '2024-12-10'),\n",
    "#     ('MSFT', '2024-12-10'),\n",
    "#     ('GOOGL', '2024-12-10'),\n",
    "# ]\n",
    "# conn_config_file='cfg_connections.yaml'\n",
    "# x=FinalyticsDB(conn_config_file)\n",
    "# query=\"select symbol, start_date from fin.vw_etl_stock_eod_start_date limit 10\"\n",
    "# print(x.get_symbol_start_date_pairs(query))\n",
    "\n",
    "\n"
   ]
  },
  {
   "cell_type": "code",
   "execution_count": null,
   "id": "6788838b-dd75-442c-8c33-68a2a1498296",
   "metadata": {},
   "outputs": [],
   "source": []
  }
 ],
 "metadata": {
  "kernelspec": {
   "display_name": "Poetry",
   "language": "python",
   "name": "poetry-kernel"
  },
  "language_info": {
   "codemirror_mode": {
    "name": "ipython",
    "version": 3
   },
   "file_extension": ".py",
   "mimetype": "text/x-python",
   "name": "python",
   "nbconvert_exporter": "python",
   "pygments_lexer": "ipython3",
   "version": "3.10.12"
  }
 },
 "nbformat": 4,
 "nbformat_minor": 5
}
