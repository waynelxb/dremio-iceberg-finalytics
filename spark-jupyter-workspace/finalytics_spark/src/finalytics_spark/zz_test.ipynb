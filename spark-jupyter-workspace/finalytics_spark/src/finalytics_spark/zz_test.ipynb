{
 "cells": [
  {
   "cell_type": "code",
   "execution_count": 1,
   "id": "07fc2b6d-fe3c-4578-ae65-c2863d793dea",
   "metadata": {
    "tags": []
   },
   "outputs": [],
   "source": [
    "import yaml\n",
    "from pyspark.sql.types import StructType, StructField, StringType, FloatType, IntegerType\n",
    "\n",
    "# Load YAML configuration\n",
    "config_file_path = \"table_config.yaml\"\n",
    "with open(config_file_path, 'r') as file:\n",
    "    config = yaml.safe_load(file)"
   ]
  },
  {
   "cell_type": "code",
   "execution_count": 2,
   "id": "e5af0ea1-8fcd-4976-9f6a-d3d25834da46",
   "metadata": {
    "tags": []
   },
   "outputs": [],
   "source": [
    "# Extract table schema and partition info\n",
    "table_name = \"iceberg.stock_eod_data\"\n",
    "table_config = config[\"tables\"][table_name]\n",
    "\n",
    "schema_config = table_config[\"schema\"]\n",
    "partition_by = table_config.get(\"partition_by\", [])"
   ]
  },
  {
   "cell_type": "code",
   "execution_count": 3,
   "id": "28b347e9-9f79-41a1-9bb1-67c20614170f",
   "metadata": {
    "tags": []
   },
   "outputs": [],
   "source": [
    "# Map YAML types to PySpark types\n",
    "type_mapping = {\n",
    "    \"StringType\": StringType,\n",
    "    \"FloatType\": FloatType,\n",
    "    \"IntegerType\": IntegerType,\n",
    "}\n",
    "\n",
    "# Build StructType schema\n",
    "fields = [\n",
    "    StructField(field[\"name\"], type_mapping[field[\"type\"]](), field[\"nullable\"])\n",
    "    for field in schema_config\n",
    "]\n",
    "struct_type = StructType(fields)"
   ]
  },
  {
   "cell_type": "code",
   "execution_count": 4,
   "id": "38a63f3d-d24f-45f3-8b59-7c25cd2f28fa",
   "metadata": {
    "tags": []
   },
   "outputs": [
    {
     "name": "stdout",
     "output_type": "stream",
     "text": [
      "StructType([StructField('date', StringType(), False), StructField('open', FloatType(), True), StructField('close', FloatType(), True), StructField('volume', IntegerType(), True)])\n"
     ]
    }
   ],
   "source": [
    "print(struct_type)"
   ]
  },
  {
   "cell_type": "code",
   "execution_count": 13,
   "id": "e61fc5ca-6c27-4371-aabd-484684a5a5ef",
   "metadata": {
    "tags": []
   },
   "outputs": [
    {
     "name": "stdout",
     "output_type": "stream",
     "text": [
      "CREATE TABLE IF NOT EXISTS raw.stock_eod_yfinance (date string, open float, high float, low float, close float, volume int, dividends float, stock_splits float, symbol string, import_time string)\n",
      "        USING iceberg\n"
     ]
    }
   ],
   "source": [
    "# Import the TableManager class\n",
    "import nbimporter  # Required to import a class from another Jupyter notebook\n",
    "from lab_registered_tables import TableManager\n",
    "\n",
    "# Initialize the TableManager with the YAML file path\n",
    "config_file_path = \"registered_table_schemas.yaml\"\n",
    "table_manager = TableManager(config_file_path)\n",
    "\n",
    "# Get the CREATE TABLE query\n",
    "table_name = \"raw.stock_eod_yfinance\"\n",
    "create_table_query = table_manager.get_create_table_query(table_name)\n",
    "\n",
    "# Print the query\n",
    "print(create_table_query)\n",
    "\n",
    "# Optionally, execute the query in Spark\n",
    "from pyspark.sql import SparkSession\n",
    "\n",
    "# spark = SparkSession.builder \\\n",
    "#     .appName(\"IcebergTableManager\") \\\n",
    "#     .config(\"spark.sql.catalog.iceberg\", \"org.apache.iceberg.spark.SparkCatalog\") \\\n",
    "#     .config(\"spark.sql.catalog.iceberg.type\", \"hadoop\") \\\n",
    "#     .config(\"spark.sql.catalog.iceberg.warehouse\", \"path/to/warehouse\") \\\n",
    "#     .getOrCreate()\n",
    "\n",
    "# # Execute the query\n",
    "# spark.sql(create_table_query)"
   ]
  },
  {
   "cell_type": "code",
   "execution_count": null,
   "id": "f6c9cca1-4eed-439b-bd31-6ba3ce5f5a4a",
   "metadata": {},
   "outputs": [],
   "source": []
  }
 ],
 "metadata": {
  "kernelspec": {
   "display_name": "Poetry",
   "language": "python",
   "name": "poetry-kernel"
  },
  "language_info": {
   "codemirror_mode": {
    "name": "ipython",
    "version": 3
   },
   "file_extension": ".py",
   "mimetype": "text/x-python",
   "name": "python",
   "nbconvert_exporter": "python",
   "pygments_lexer": "ipython3",
   "version": "3.10.12"
  }
 },
 "nbformat": 4,
 "nbformat_minor": 5
}
