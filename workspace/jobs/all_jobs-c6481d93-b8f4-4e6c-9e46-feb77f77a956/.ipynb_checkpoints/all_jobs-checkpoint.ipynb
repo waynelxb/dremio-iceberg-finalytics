{
 "cells": [
  {
   "cell_type": "code",
   "execution_count": 3,
   "id": "9c772868-8151-4a22-8b0d-d2a47f8cc70a",
   "metadata": {},
   "outputs": [
    {
     "name": "stderr",
     "output_type": "stream",
     "text": [
      "INFO:yahoo_records.load_yahoo_eod:Starting EOD records loading process...\n",
      "INFO:yahoo_records.load_yahoo_eod:Fetching Yahoo EOD data from PostgreSQL...\n",
      "INFO:yahoo_records.load_yahoo_eod:Fetched 100 records from PostgreSQL.\n",
      "INFO:yahoo_records.load_yahoo_eod:Fetching Yahoo EOD data from Yahoo API...\n"
     ]
    },
    {
     "name": "stdout",
     "output_type": "stream",
     "text": [
      "Working on 1/1\n",
      "An error occurred: ('Connection broken: IncompleteRead(1295 bytes read, 2156 more expected)', IncompleteRead(1295 bytes read, 2156 more expected))\n",
      "0 records in 1/1.\n",
      "Sleeping for 1 seconds...\n"
     ]
    },
    {
     "name": "stderr",
     "output_type": "stream",
     "text": [
      "INFO:yahoo_records.load_yahoo_eod:Fetched 0 records from Yahoo API.\n",
      "INFO:yahoo_records.load_yahoo_eod:Loading data into Iceberg table: nessie.raw.etf_eod_yahoo...\n",
      "INFO:yahoo_records.load_yahoo_eod:Data loaded into Iceberg successfully.\n",
      "INFO:yahoo_records.load_yahoo_eod:Truncating PostgreSQL table: stage.etf_eod_quote_yahoo...\n",
      "INFO:yahoo_records.load_yahoo_eod:Loading data from Iceberg to PostgreSQL table: stage.etf_eod_quote_yahoo...\n"
     ]
    },
    {
     "name": "stdout",
     "output_type": "stream",
     "text": [
      "Iceberg table nessie.raw.etf_eod_yahoo truncated successfully.\n",
      "Error loading lceberg raw table: [CANNOT_INFER_EMPTY_SCHEMA] Can not infer schema from empty dataset.\n"
     ]
    },
    {
     "name": "stderr",
     "output_type": "stream",
     "text": [
      "INFO:yahoo_records.load_yahoo_eod:Data loaded into PostgreSQL successfully.\n",
      "INFO:yahoo_records.load_yahoo_eod:Merging data in PostgreSQL...\n",
      "INFO:yahoo_records.load_yahoo_eod:Data merged successfully in PostgreSQL.\n",
      "INFO:yahoo_records.load_yahoo_eod:EOD records loaded successfully.\n"
     ]
    }
   ],
   "source": [
    "%run job_load_yahoo_eod_records2.py --job-name load_yahoo_etf_eod_records"
   ]
  },
  {
   "cell_type": "code",
   "execution_count": null,
   "id": "7bb99bd8-9e9b-4e74-a201-20110d98db4c",
   "metadata": {},
   "outputs": [],
   "source": [
    "%run job_load_yahoo_eod_records2.py --job-name load_yahoo_stock_eod_records"
   ]
  },
  {
   "cell_type": "code",
   "execution_count": null,
   "id": "5d59a4bb-3a1e-47de-88ec-d9c093abf7b5",
   "metadata": {},
   "outputs": [],
   "source": []
  }
 ],
 "metadata": {
  "kernelspec": {
   "display_name": "Poetry",
   "language": "python",
   "name": "poetry-kernel"
  },
  "language_info": {
   "codemirror_mode": {
    "name": "ipython",
    "version": 3
   },
   "file_extension": ".py",
   "mimetype": "text/x-python",
   "name": "python",
   "nbconvert_exporter": "python",
   "pygments_lexer": "ipython3",
   "version": "3.11.11"
  }
 },
 "nbformat": 4,
 "nbformat_minor": 5
}
