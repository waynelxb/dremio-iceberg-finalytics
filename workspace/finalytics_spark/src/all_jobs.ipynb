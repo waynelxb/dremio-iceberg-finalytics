{
 "cells": [
  {
   "cell_type": "code",
   "execution_count": 3,
   "id": "9c772868-8151-4a22-8b0d-d2a47f8cc70a",
   "metadata": {},
   "outputs": [
    {
     "name": "stdout",
     "output_type": "stream",
     "text": [
      ":: loading settings :: url = jar:file:/opt/spark/jars/ivy-2.5.1.jar!/org/apache/ivy/core/settings/ivysettings.xml\n"
     ]
    },
    {
     "name": "stderr",
     "output_type": "stream",
     "text": [
      "Ivy Default Cache set to: /root/.ivy2/cache\n",
      "The jars for the packages stored in: /root/.ivy2/jars\n",
      "org.postgresql#postgresql added as a dependency\n",
      "org.apache.iceberg#iceberg-spark-runtime-3.5_2.12 added as a dependency\n",
      "org.projectnessie.nessie-integrations#nessie-spark-extensions-3.5_2.12 added as a dependency\n",
      "software.amazon.awssdk#bundle added as a dependency\n",
      "software.amazon.awssdk#url-connection-client added as a dependency\n",
      ":: resolving dependencies :: org.apache.spark#spark-submit-parent-544ea877-599f-483c-8af8-857b47fffb8e;1.0\n",
      "\tconfs: [default]\n",
      "\tfound org.postgresql#postgresql;42.7.3 in central\n",
      "\tfound org.checkerframework#checker-qual;3.42.0 in central\n",
      "\tfound org.apache.iceberg#iceberg-spark-runtime-3.5_2.12;1.5.0 in central\n",
      "\tfound org.projectnessie.nessie-integrations#nessie-spark-extensions-3.5_2.12;0.77.1 in central\n",
      "\tfound software.amazon.awssdk#bundle;2.24.8 in central\n",
      "\tfound software.amazon.awssdk#url-connection-client;2.24.8 in central\n",
      "\tfound software.amazon.awssdk#utils;2.24.8 in central\n",
      "\tfound org.reactivestreams#reactive-streams;1.0.4 in central\n",
      "\tfound software.amazon.awssdk#annotations;2.24.8 in central\n",
      "\tfound org.slf4j#slf4j-api;1.7.30 in central\n",
      "\tfound software.amazon.awssdk#http-client-spi;2.24.8 in central\n",
      "\tfound software.amazon.awssdk#metrics-spi;2.24.8 in central\n",
      ":: resolution report :: resolve 364ms :: artifacts dl 15ms\n",
      "\t:: modules in use:\n",
      "\torg.apache.iceberg#iceberg-spark-runtime-3.5_2.12;1.5.0 from central in [default]\n",
      "\torg.checkerframework#checker-qual;3.42.0 from central in [default]\n",
      "\torg.postgresql#postgresql;42.7.3 from central in [default]\n",
      "\torg.projectnessie.nessie-integrations#nessie-spark-extensions-3.5_2.12;0.77.1 from central in [default]\n",
      "\torg.reactivestreams#reactive-streams;1.0.4 from central in [default]\n",
      "\torg.slf4j#slf4j-api;1.7.30 from central in [default]\n",
      "\tsoftware.amazon.awssdk#annotations;2.24.8 from central in [default]\n",
      "\tsoftware.amazon.awssdk#bundle;2.24.8 from central in [default]\n",
      "\tsoftware.amazon.awssdk#http-client-spi;2.24.8 from central in [default]\n",
      "\tsoftware.amazon.awssdk#metrics-spi;2.24.8 from central in [default]\n",
      "\tsoftware.amazon.awssdk#url-connection-client;2.24.8 from central in [default]\n",
      "\tsoftware.amazon.awssdk#utils;2.24.8 from central in [default]\n",
      "\t---------------------------------------------------------------------\n",
      "\t|                  |            modules            ||   artifacts   |\n",
      "\t|       conf       | number| search|dwnlded|evicted|| number|dwnlded|\n",
      "\t---------------------------------------------------------------------\n",
      "\t|      default     |   12  |   0   |   0   |   0   ||   12  |   0   |\n",
      "\t---------------------------------------------------------------------\n",
      ":: retrieving :: org.apache.spark#spark-submit-parent-544ea877-599f-483c-8af8-857b47fffb8e\n",
      "\tconfs: [default]\n",
      "\t0 artifacts copied, 12 already retrieved (0kB/8ms)\n",
      "25/01/31 12:19:30 WARN NativeCodeLoader: Unable to load native-hadoop library for your platform... using builtin-java classes where applicable\n",
      "Setting default log level to \"WARN\".\n",
      "To adjust logging level use sc.setLogLevel(newLevel). For SparkR, use setLogLevel(newLevel).\n",
      "INFO:yahoo_records.curated_yahoo_data_ingester:Starting EOD records loading process...\n",
      "INFO:yahoo_records.curated_yahoo_data_ingester:Fetching Yahoo EOD data from PostgreSQL...\n",
      "INFO:yahoo_records.curated_yahoo_data_ingester:Fetched 10 records from PostgreSQL.\n",
      "INFO:yahoo_records.curated_yahoo_data_ingester:Fetching Yahoo EOD data from Yahoo API...\n"
     ]
    },
    {
     "name": "stdout",
     "output_type": "stream",
     "text": [
      "Processing group 1/2 with 5 symbols...\n",
      "Retrieved 15 records for group 1/2.\n",
      "Sleeping for 5 seconds...\n",
      "Processing group 2/2 with 5 symbols...\n",
      "Retrieved 15 records for group 2/2.\n",
      "Sleeping for 2 seconds...\n"
     ]
    },
    {
     "name": "stderr",
     "output_type": "stream",
     "text": [
      "INFO:yahoo_records.curated_yahoo_data_ingester:Fetched 30 records from Yahoo API.\n",
      "INFO:yahoo_records.curated_yahoo_data_ingester:Loading data into Iceberg table: nessie.raw.etf_eod_yahoo...\n",
      "SLF4J: Failed to load class \"org.slf4j.impl.StaticLoggerBinder\".\n",
      "SLF4J: Defaulting to no-operation (NOP) logger implementation\n",
      "SLF4J: See http://www.slf4j.org/codes.html#StaticLoggerBinder for further details.\n"
     ]
    },
    {
     "name": "stdout",
     "output_type": "stream",
     "text": [
      "Iceberg table nessie.raw.etf_eod_yahoo truncated successfully.\n",
      "++\n",
      "||\n",
      "++\n",
      "++\n",
      "\n"
     ]
    },
    {
     "name": "stderr",
     "output_type": "stream",
     "text": [
      "INFO:yahoo_records.curated_yahoo_data_ingester:Data loaded into Iceberg successfully.\n",
      "INFO:yahoo_records.curated_yahoo_data_ingester:Truncating PostgreSQL table: stage.etf_eod_quote_yahoo...\n",
      "INFO:yahoo_records.curated_yahoo_data_ingester:Loading data from Iceberg to PostgreSQL table: stage.etf_eod_quote_yahoo...\n"
     ]
    },
    {
     "name": "stdout",
     "output_type": "stream",
     "text": [
      "nessie.raw.etf_eod_yahoo was loaded with 30 records, totally 30 records.\n"
     ]
    },
    {
     "name": "stderr",
     "output_type": "stream",
     "text": [
      "INFO:yahoo_records.curated_yahoo_data_ingester:Data loaded into PostgreSQL successfully.\n",
      "INFO:yahoo_records.curated_yahoo_data_ingester:Merging data in PostgreSQL...\n",
      "INFO:yahoo_records.curated_yahoo_data_ingester:Data merged successfully in PostgreSQL.\n",
      "INFO:yahoo_records.curated_yahoo_data_ingester:EOD records loaded successfully.\n"
     ]
    }
   ],
   "source": [
    "%run job_load_yahoo_eod_records.py --job-name load_yahoo_etf_eod_quotes"
   ]
  },
  {
   "cell_type": "code",
   "execution_count": 2,
   "id": "7bb99bd8-9e9b-4e74-a201-20110d98db4c",
   "metadata": {},
   "outputs": [],
   "source": [
    "# %run job_load_yahoo_eod_records.py --job-name load_yahoo_stock_eod_records"
   ]
  },
  {
   "cell_type": "code",
   "execution_count": null,
   "id": "8d54421b-1939-4756-b50c-505623b23941",
   "metadata": {},
   "outputs": [],
   "source": []
  },
  {
   "cell_type": "code",
   "execution_count": null,
   "id": "23d8c35e-dd0e-4e08-917d-5c6aa1afa07d",
   "metadata": {},
   "outputs": [],
   "source": []
  }
 ],
 "metadata": {
  "kernelspec": {
   "display_name": "Poetry",
   "language": "python",
   "name": "poetry-kernel"
  },
  "language_info": {
   "codemirror_mode": {
    "name": "ipython",
    "version": 3
   },
   "file_extension": ".py",
   "mimetype": "text/x-python",
   "name": "python",
   "nbconvert_exporter": "python",
   "pygments_lexer": "ipython3",
   "version": "3.11.11"
  }
 },
 "nbformat": 4,
 "nbformat_minor": 5
}
