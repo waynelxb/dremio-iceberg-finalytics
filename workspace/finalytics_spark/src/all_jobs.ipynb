{
 "cells": [
  {
   "cell_type": "code",
   "execution_count": null,
   "id": "9c772868-8151-4a22-8b0d-d2a47f8cc70a",
   "metadata": {},
   "outputs": [],
   "source": [
    "%run job_load_yahoo_eod_records.py --job-name load_yahoo_etf_eod_records"
   ]
  },
  {
   "cell_type": "code",
   "execution_count": null,
   "id": "7bb99bd8-9e9b-4e74-a201-20110d98db4c",
   "metadata": {},
   "outputs": [],
   "source": [
    "%run job_load_yahoo_eod_records.py --job-name load_yahoo_stock_eod_records"
   ]
  },
  {
   "cell_type": "code",
   "execution_count": null,
   "id": "5d59a4bb-3a1e-47de-88ec-d9c093abf7b5",
   "metadata": {},
   "outputs": [],
   "source": []
  }
 ],
 "metadata": {
  "kernelspec": {
   "display_name": "Poetry",
   "language": "python",
   "name": "poetry-kernel"
  },
  "language_info": {
   "codemirror_mode": {
    "name": "ipython",
    "version": 3
   },
   "file_extension": ".py",
   "mimetype": "text/x-python",
   "name": "python",
   "nbconvert_exporter": "python",
   "pygments_lexer": "ipython3",
   "version": "3.11.11"
  }
 },
 "nbformat": 4,
 "nbformat_minor": 5
}
