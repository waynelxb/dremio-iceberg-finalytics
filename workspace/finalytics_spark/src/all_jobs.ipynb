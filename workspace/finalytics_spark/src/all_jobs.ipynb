{
 "cells": [
  {
   "cell_type": "markdown",
   "id": "0d8a8f39-29ea-483c-a3c0-a39e4cbfbe9a",
   "metadata": {},
   "source": [
    "# Jobs: Load Data to Iceberg"
   ]
  },
  {
   "cell_type": "code",
   "execution_count": null,
   "id": "9c772868-8151-4a22-8b0d-d2a47f8cc70a",
   "metadata": {},
   "outputs": [],
   "source": [
    "# %run job_load_yahoo_to_iceberg.py --job-name load_yahoo_stock_eod_quotes_to_iceberg"
   ]
  },
  {
   "cell_type": "code",
   "execution_count": null,
   "id": "7bb99bd8-9e9b-4e74-a201-20110d98db4c",
   "metadata": {},
   "outputs": [],
   "source": [
    "# %run job_load_yahoo_to_iceberg.py --job-name load_yahoo_etf_eod_quotes_to_iceberg"
   ]
  },
  {
   "cell_type": "code",
   "execution_count": null,
   "id": "9a56a453-50b3-462d-95d3-e601cc7ce0a9",
   "metadata": {},
   "outputs": [],
   "source": [
    "# %run job_load_yahoo_to_iceberg.py --job-name load_yahoo_stock_market_quotes_to_iceberg"
   ]
  },
  {
   "cell_type": "code",
   "execution_count": null,
   "id": "b669bd99-40a0-4530-9873-281a8b86e095",
   "metadata": {
    "scrolled": true
   },
   "outputs": [],
   "source": [
    "# %run job_load_yahoo_to_iceberg.py --job-name load_yahoo_stock_profile_to_iceberg"
   ]
  },
  {
   "cell_type": "code",
   "execution_count": null,
   "id": "f1666d72-0b27-4a52-8688-5a04d04412c2",
   "metadata": {},
   "outputs": [],
   "source": [
    "# %run job_load_file_to_iceberg.py --job-name load_sa_etf_symbol_to_iceberg"
   ]
  },
  {
   "cell_type": "code",
   "execution_count": null,
   "id": "8d54421b-1939-4756-b50c-505623b23941",
   "metadata": {},
   "outputs": [],
   "source": [
    "# %run job_load_file_to_iceberg.py --job-name load_sa_stock_symbol"
   ]
  },
  {
   "cell_type": "markdown",
   "id": "ec7bcad4-aeb7-4176-abf9-c88b428879f7",
   "metadata": {},
   "source": [
    "# Jobs: Sync Data in Iceberg to Pg"
   ]
  },
  {
   "cell_type": "code",
   "execution_count": 14,
   "id": "6e8137f0-91bc-4853-b2a1-643f2b4484f5",
   "metadata": {},
   "outputs": [
    {
     "name": "stderr",
     "output_type": "stream",
     "text": [
      "2025-02-03 15:51:24,179 - INFO - Configuration file loaded successfully.\n",
      "2025-02-03 15:51:24,209 - INFO - Starting pipeline execution for job: sync_yahoo_stock_market_quote_to_pg\n",
      "2025-02-03 15:51:24,210 - INFO - Starting EOD records loading process...\n",
      "2025-02-03 15:51:24,211 - INFO - Truncating PostgreSQL table: stage.stock_market_quote_yahoo...\n",
      "2025-02-03 15:51:24,279 - INFO - Loading data from Iceberg to PostgreSQL table: stage.stock_market_quote_yahoo...\n",
      "2025-02-03 15:51:25,033 - INFO - Data loaded into PostgreSQL successfully.\n",
      "2025-02-03 15:51:25,034 - INFO - Merging data in PostgreSQL...\n",
      "2025-02-03 15:51:25,089 - INFO - Data merged successfully in PostgreSQL.\n",
      "2025-02-03 15:51:25,090 - INFO - EOD records loaded successfully.\n",
      "2025-02-03 15:51:25,091 - INFO - Pipeline execution completed successfully for job: sync_yahoo_stock_market_quote_to_pg\n"
     ]
    }
   ],
   "source": [
    "%run job_sync_iceberg_to_pg.py --job-name sync_yahoo_stock_market_quote_to_pg"
   ]
  },
  {
   "cell_type": "code",
   "execution_count": null,
   "id": "5d861aa0-10ec-44ac-bb79-02744911ea19",
   "metadata": {},
   "outputs": [],
   "source": [
    "%run job_sync_iceberg_to_pg.py --job-name sync_sa_stock_symbol_to_pg"
   ]
  },
  {
   "cell_type": "code",
   "execution_count": null,
   "id": "24160659-6981-42fd-80d4-3a3ac6da1f61",
   "metadata": {},
   "outputs": [],
   "source": [
    "%run job_sync_iceberg_to_pg.py --job-name sync_sa_etf_symbol_to_pg"
   ]
  },
  {
   "cell_type": "code",
   "execution_count": 15,
   "id": "1f023862-32ce-4037-b4e3-3cd03f32186b",
   "metadata": {},
   "outputs": [
    {
     "name": "stderr",
     "output_type": "stream",
     "text": [
      "2025-02-03 15:54:09,281 - INFO - Configuration file loaded successfully.\n",
      "2025-02-03 15:54:09,311 - INFO - Starting pipeline execution for job: sync_yahoo_stock_profile_to_pg\n",
      "2025-02-03 15:54:09,312 - INFO - Starting EOD records loading process...\n",
      "2025-02-03 15:54:09,312 - INFO - Truncating PostgreSQL table: stage.stock_profile_yahoo...\n",
      "2025-02-03 15:54:09,389 - INFO - Loading data from Iceberg to PostgreSQL table: stage.stock_profile_yahoo...\n",
      "2025-02-03 15:54:10,256 - INFO - Data loaded into PostgreSQL successfully.\n",
      "2025-02-03 15:54:10,257 - INFO - Merging data in PostgreSQL...\n",
      "2025-02-03 15:54:10,320 - INFO - Data merged successfully in PostgreSQL.\n",
      "2025-02-03 15:54:10,320 - INFO - EOD records loaded successfully.\n",
      "2025-02-03 15:54:10,321 - INFO - Pipeline execution completed successfully for job: sync_yahoo_stock_profile_to_pg\n"
     ]
    },
    {
     "name": "stdout",
     "output_type": "stream",
     "text": [
      "An error occurred: procedure fin.usp_load_stock_profile() does not exist\n",
      "LINE 1: call fin.usp_load_stock_profile()\n",
      "             ^\n",
      "HINT:  No procedure matches the given name and argument types. You might need to add explicit type casts.\n",
      "\n"
     ]
    }
   ],
   "source": [
    "%run job_sync_iceberg_to_pg.py --job-name sync_yahoo_stock_profile_to_pg"
   ]
  },
  {
   "cell_type": "code",
   "execution_count": null,
   "id": "f1bd693c-dca6-4413-bdc4-68cdc293b2a8",
   "metadata": {},
   "outputs": [],
   "source": []
  },
  {
   "cell_type": "code",
   "execution_count": null,
   "id": "f27c9b14-8d2e-4969-96af-338dea7abd1b",
   "metadata": {},
   "outputs": [],
   "source": []
  }
 ],
 "metadata": {
  "kernelspec": {
   "display_name": "Poetry",
   "language": "python",
   "name": "poetry-kernel"
  },
  "language_info": {
   "codemirror_mode": {
    "name": "ipython",
    "version": 3
   },
   "file_extension": ".py",
   "mimetype": "text/x-python",
   "name": "python",
   "nbconvert_exporter": "python",
   "pygments_lexer": "ipython3",
   "version": "3.11.11"
  }
 },
 "nbformat": 4,
 "nbformat_minor": 5
}
