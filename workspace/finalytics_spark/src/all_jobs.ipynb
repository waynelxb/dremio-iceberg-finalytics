{
 "cells": [
  {
   "cell_type": "code",
   "execution_count": 4,
   "id": "9c772868-8151-4a22-8b0d-d2a47f8cc70a",
   "metadata": {},
   "outputs": [
    {
     "name": "stderr",
     "output_type": "stream",
     "text": [
      "INFO:yahoo_records.curated_yahoo_data_ingester:Starting EOD records loading process...\n",
      "INFO:yahoo_records.curated_yahoo_data_ingester:Fetching Yahoo EOD data from PostgreSQL...\n",
      "INFO:yahoo_records.curated_yahoo_data_ingester:Fetched 5 records from PostgreSQL.\n",
      "INFO:yahoo_records.curated_yahoo_data_ingester:Fetching Yahoo EOD data from Yahoo API...\n"
     ]
    },
    {
     "name": "stdout",
     "output_type": "stream",
     "text": [
      "Processing group 1/1 with 5 symbols...\n",
      "Retrieved 10 records for group 1/1.\n",
      "Sleeping for 2 seconds...\n"
     ]
    },
    {
     "name": "stderr",
     "output_type": "stream",
     "text": [
      "INFO:yahoo_records.curated_yahoo_data_ingester:Fetched 10 records from Yahoo API.\n",
      "INFO:yahoo_records.curated_yahoo_data_ingester:Loading data into Iceberg table: nessie.raw.etf_eod_yahoo...\n",
      "SLF4J: Failed to load class \"org.slf4j.impl.StaticLoggerBinder\".\n",
      "SLF4J: Defaulting to no-operation (NOP) logger implementation\n",
      "SLF4J: See http://www.slf4j.org/codes.html#StaticLoggerBinder for further details.\n"
     ]
    },
    {
     "name": "stdout",
     "output_type": "stream",
     "text": [
      "Iceberg table nessie.raw.etf_eod_yahoo truncated successfully.\n"
     ]
    },
    {
     "name": "stderr",
     "output_type": "stream",
     "text": [
      "INFO:yahoo_records.curated_yahoo_data_ingester:Data loaded into Iceberg successfully.\n",
      "INFO:yahoo_records.curated_yahoo_data_ingester:Truncating PostgreSQL table: stage.etf_eod_quote_yahoo...\n",
      "INFO:yahoo_records.curated_yahoo_data_ingester:Loading data from Iceberg to PostgreSQL table: stage.etf_eod_quote_yahoo...\n"
     ]
    },
    {
     "name": "stdout",
     "output_type": "stream",
     "text": [
      "nessie.raw.etf_eod_yahoo was loaded with 10 records, totally 10 records.\n"
     ]
    },
    {
     "name": "stderr",
     "output_type": "stream",
     "text": [
      "INFO:yahoo_records.curated_yahoo_data_ingester:Data loaded into PostgreSQL successfully.\n",
      "INFO:yahoo_records.curated_yahoo_data_ingester:Merging data in PostgreSQL...\n",
      "INFO:yahoo_records.curated_yahoo_data_ingester:Data merged successfully in PostgreSQL.\n",
      "INFO:yahoo_records.curated_yahoo_data_ingester:EOD records loaded successfully.\n"
     ]
    },
    {
     "name": "stdout",
     "output_type": "stream",
     "text": [
      "An error occurred: invalid input syntax for type timestamp: \"java.util.GregorianCalendar[time=?,areFieldsSet=false,areAllFieldsSet=false,lenient=true,zone=sun.util.calendar.ZoneInfo[id=\"America/Chicago\",offset=-21600000,dstSavings=3600000,useDaylight=true,transitions=235,lastRule=java.util.SimpleTimeZone[id=America/Chicago,offset=-21600000,dstSavings=3600000,useDaylight=true,startYear=0,startMode=3,startMonth=2,startDay=8,startDayOfWeek=1,startTime=7200000,startTimeMode=0,endMode=3,endMonth=10,endDay=1,endDayOfWeek=1,endTime=7200000,endTimeMode=0]],firstDayOfWeek=1,minimalDaysInFirstWeek=1,ERA=?,YEAR=2025,MONTH=0,WEEK_OF_YEAR=?,WEEK_OF_MONTH=?,DAY_OF_MONTH=31,DAY_OF_YEAR=?,DAY_OF_WEEK=?,DAY_OF_WEEK_IN_MONTH=?,AM_PM=1,HOUR=3,HOUR_OF_DAY=15,MINUTE=35,SECOND=3,MILLISECOND=539,ZONE_OFFSET=?,DST_OFFSET=?]\"\n",
      "CONTEXT:  SQL function \"usp_load_etf_eod\" statement 1\n",
      "\n"
     ]
    }
   ],
   "source": [
    "%run job_load_yahoo_data.py --job-name load_yahoo_etf_eod_quotes"
   ]
  },
  {
   "cell_type": "code",
   "execution_count": 2,
   "id": "7bb99bd8-9e9b-4e74-a201-20110d98db4c",
   "metadata": {},
   "outputs": [],
   "source": [
    "# %run job_load_yahoo_data.py --job-name load_yahoo_stock_eod_records"
   ]
  },
  {
   "cell_type": "code",
   "execution_count": 3,
   "id": "8d54421b-1939-4756-b50c-505623b23941",
   "metadata": {},
   "outputs": [],
   "source": [
    "# %run job_load_yahoo_data.py --job-name load_yahoo_stock_market_quotes"
   ]
  },
  {
   "cell_type": "code",
   "execution_count": null,
   "id": "23d8c35e-dd0e-4e08-917d-5c6aa1afa07d",
   "metadata": {},
   "outputs": [],
   "source": []
  },
  {
   "cell_type": "code",
   "execution_count": null,
   "id": "07c71b91-3953-4322-946b-8600c07bb070",
   "metadata": {},
   "outputs": [],
   "source": []
  }
 ],
 "metadata": {
  "kernelspec": {
   "display_name": "Poetry",
   "language": "python",
   "name": "poetry-kernel"
  },
  "language_info": {
   "codemirror_mode": {
    "name": "ipython",
    "version": 3
   },
   "file_extension": ".py",
   "mimetype": "text/x-python",
   "name": "python",
   "nbconvert_exporter": "python",
   "pygments_lexer": "ipython3",
   "version": "3.11.11"
  }
 },
 "nbformat": 4,
 "nbformat_minor": 5
}
