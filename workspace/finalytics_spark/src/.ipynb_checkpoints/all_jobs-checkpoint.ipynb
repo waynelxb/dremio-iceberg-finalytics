{
 "cells": [
  {
   "cell_type": "code",
   "execution_count": 1,
   "id": "9c772868-8151-4a22-8b0d-d2a47f8cc70a",
   "metadata": {},
   "outputs": [],
   "source": [
    "%run job_load_yahoo_data.py --job-name load_yahoo_etf_eod_quotes"
   ]
  },
  {
   "cell_type": "code",
   "execution_count": 2,
   "id": "7bb99bd8-9e9b-4e74-a201-20110d98db4c",
   "metadata": {},
   "outputs": [],
   "source": [
    "# %run job_load_yahoo_data.py --job-name load_yahoo_stock_eod_records"
   ]
  },
  {
   "cell_type": "code",
   "execution_count": 3,
   "id": "8d54421b-1939-4756-b50c-505623b23941",
   "metadata": {},
   "outputs": [
    {
     "name": "stdout",
     "output_type": "stream",
     "text": [
      ":: loading settings :: url = jar:file:/opt/spark/jars/ivy-2.5.1.jar!/org/apache/ivy/core/settings/ivysettings.xml\n"
     ]
    },
    {
     "name": "stderr",
     "output_type": "stream",
     "text": [
      "Ivy Default Cache set to: /root/.ivy2/cache\n",
      "The jars for the packages stored in: /root/.ivy2/jars\n",
      "org.postgresql#postgresql added as a dependency\n",
      "org.apache.iceberg#iceberg-spark-runtime-3.5_2.12 added as a dependency\n",
      "org.projectnessie.nessie-integrations#nessie-spark-extensions-3.5_2.12 added as a dependency\n",
      "software.amazon.awssdk#bundle added as a dependency\n",
      "software.amazon.awssdk#url-connection-client added as a dependency\n",
      ":: resolving dependencies :: org.apache.spark#spark-submit-parent-2305ef37-222b-4323-8dd6-788af9a5132f;1.0\n",
      "\tconfs: [default]\n",
      "\tfound org.postgresql#postgresql;42.7.3 in central\n",
      "\tfound org.checkerframework#checker-qual;3.42.0 in central\n",
      "\tfound org.apache.iceberg#iceberg-spark-runtime-3.5_2.12;1.5.0 in central\n",
      "\tfound org.projectnessie.nessie-integrations#nessie-spark-extensions-3.5_2.12;0.77.1 in central\n",
      "\tfound software.amazon.awssdk#bundle;2.24.8 in central\n",
      "\tfound software.amazon.awssdk#url-connection-client;2.24.8 in central\n",
      "\tfound software.amazon.awssdk#utils;2.24.8 in central\n",
      "\tfound org.reactivestreams#reactive-streams;1.0.4 in central\n",
      "\tfound software.amazon.awssdk#annotations;2.24.8 in central\n",
      "\tfound org.slf4j#slf4j-api;1.7.30 in central\n",
      "\tfound software.amazon.awssdk#http-client-spi;2.24.8 in central\n",
      "\tfound software.amazon.awssdk#metrics-spi;2.24.8 in central\n",
      ":: resolution report :: resolve 457ms :: artifacts dl 25ms\n",
      "\t:: modules in use:\n",
      "\torg.apache.iceberg#iceberg-spark-runtime-3.5_2.12;1.5.0 from central in [default]\n",
      "\torg.checkerframework#checker-qual;3.42.0 from central in [default]\n",
      "\torg.postgresql#postgresql;42.7.3 from central in [default]\n",
      "\torg.projectnessie.nessie-integrations#nessie-spark-extensions-3.5_2.12;0.77.1 from central in [default]\n",
      "\torg.reactivestreams#reactive-streams;1.0.4 from central in [default]\n",
      "\torg.slf4j#slf4j-api;1.7.30 from central in [default]\n",
      "\tsoftware.amazon.awssdk#annotations;2.24.8 from central in [default]\n",
      "\tsoftware.amazon.awssdk#bundle;2.24.8 from central in [default]\n",
      "\tsoftware.amazon.awssdk#http-client-spi;2.24.8 from central in [default]\n",
      "\tsoftware.amazon.awssdk#metrics-spi;2.24.8 from central in [default]\n",
      "\tsoftware.amazon.awssdk#url-connection-client;2.24.8 from central in [default]\n",
      "\tsoftware.amazon.awssdk#utils;2.24.8 from central in [default]\n",
      "\t---------------------------------------------------------------------\n",
      "\t|                  |            modules            ||   artifacts   |\n",
      "\t|       conf       | number| search|dwnlded|evicted|| number|dwnlded|\n",
      "\t---------------------------------------------------------------------\n",
      "\t|      default     |   12  |   0   |   0   |   0   ||   12  |   0   |\n",
      "\t---------------------------------------------------------------------\n",
      ":: retrieving :: org.apache.spark#spark-submit-parent-2305ef37-222b-4323-8dd6-788af9a5132f\n",
      "\tconfs: [default]\n",
      "\t0 artifacts copied, 12 already retrieved (0kB/8ms)\n",
      "25/01/31 18:23:36 WARN NativeCodeLoader: Unable to load native-hadoop library for your platform... using builtin-java classes where applicable\n",
      "Setting default log level to \"WARN\".\n",
      "To adjust logging level use sc.setLogLevel(newLevel). For SparkR, use setLogLevel(newLevel).\n",
      "INFO:yahoo_records.curated_yahoo_data_ingester:Starting EOD records loading process...\n",
      "INFO:yahoo_records.curated_yahoo_data_ingester:Fetching Yahoo EOD data from PostgreSQL...\n",
      "INFO:yahoo_records.curated_yahoo_data_ingester:Fetched 5 records from PostgreSQL.\n",
      "INFO:yahoo_records.curated_yahoo_data_ingester:Fetching Yahoo EOD data from Yahoo API...\n"
     ]
    },
    {
     "name": "stdout",
     "output_type": "stream",
     "text": [
      "Processing group 1/1 with 5 symbols...\n",
      "Retrieved 5 records for group 1/1.\n",
      "Sleeping for 5 seconds...\n"
     ]
    },
    {
     "name": "stderr",
     "output_type": "stream",
     "text": [
      "INFO:yahoo_records.curated_yahoo_data_ingester:Fetched 5 records from Yahoo API.\n",
      "INFO:yahoo_records.curated_yahoo_data_ingester:Loading data into Iceberg table: nessie.raw.stock_market_yahoo...\n"
     ]
    },
    {
     "name": "stdout",
     "output_type": "stream",
     "text": [
      "  symbol exchange_name market_state      pre_market_time  pre_market_price  \\\n",
      "0      A          NYSE         POST  2025-01-31 08:20:52            151.13   \n",
      "1     AA          NYSE         POST  2025-01-31 08:27:47             35.49   \n",
      "2   AACG      NasdaqGM         POST  2025-01-31 08:25:13              0.82   \n",
      "3    AAL      NasdaqGS         POST  2025-01-31 08:29:40             16.99   \n",
      "4   AAME      NasdaqGM         POST                 None               NaN   \n",
      "\n",
      "   pre_market_change  pre_market_change_percent  regular_market_time  \\\n",
      "0          -0.250000                  -0.001651  2025-01-31 15:00:02   \n",
      "1          -0.039997                  -0.001126  2025-01-31 15:00:02   \n",
      "2           0.000000                   0.000000  2025-01-31 15:00:00   \n",
      "3           0.090000                   0.005325  2025-01-31 15:00:02   \n",
      "4                NaN                        NaN  2025-01-31 15:00:02   \n",
      "\n",
      "   regular_market_price  regular_market_change  regular_market_change_percent  \\\n",
      "0              151.5200               0.139999                       0.000925   \n",
      "1               35.3200              -0.209999                      -0.005910   \n",
      "2                0.7932              -0.026800                      -0.032683   \n",
      "3               16.9200               0.020000                       0.001183   \n",
      "4                1.6900               0.030000                       0.018072   \n",
      "\n",
      "      post_market_time  post_market_price  post_market_change  \\\n",
      "0  2025-01-31 17:43:56           147.4520           -4.068008   \n",
      "1  2025-01-31 18:20:26            35.2799           -0.040100   \n",
      "2  2025-01-31 15:59:32             0.7933            0.000100   \n",
      "3  2025-01-31 18:21:54            16.9197           -0.000299   \n",
      "4  2025-01-31 15:00:14             1.6900            0.000000   \n",
      "\n",
      "   post_market_change_percent  \n",
      "0                   -0.026848  \n",
      "1                   -0.001135  \n",
      "2                    0.000126  \n",
      "3                   -0.000018  \n",
      "4                    0.000000  \n",
      "Iceberg table nessie.raw.stock_market_yahoo does not exist.\n"
     ]
    },
    {
     "name": "stderr",
     "output_type": "stream",
     "text": [
      "SLF4J: Failed to load class \"org.slf4j.impl.StaticLoggerBinder\".\n",
      "SLF4J: Defaulting to no-operation (NOP) logger implementation\n",
      "SLF4J: See http://www.slf4j.org/codes.html#StaticLoggerBinder for further details.\n",
      "INFO:yahoo_records.curated_yahoo_data_ingester:Data loaded into Iceberg successfully.\n",
      "INFO:yahoo_records.curated_yahoo_data_ingester:Truncating PostgreSQL table: stage.stock_market_quote_yahoo...\n",
      "INFO:yahoo_records.curated_yahoo_data_ingester:Loading data from Iceberg to PostgreSQL table: stage.stock_market_quote_yahoo...\n"
     ]
    },
    {
     "name": "stdout",
     "output_type": "stream",
     "text": [
      "nessie.raw.stock_market_yahoo was loaded with 5 records, totally 5 records.\n"
     ]
    },
    {
     "name": "stderr",
     "output_type": "stream",
     "text": [
      "25/01/31 18:24:08 WARN SparkStringUtils: Truncated the string representation of a plan since it was too large. This behavior can be adjusted by setting 'spark.sql.debug.maxToStringFields'.\n",
      "INFO:yahoo_records.curated_yahoo_data_ingester:Data loaded into PostgreSQL successfully.\n",
      "INFO:yahoo_records.curated_yahoo_data_ingester:Merging data in PostgreSQL...\n",
      "INFO:yahoo_records.curated_yahoo_data_ingester:Data merged successfully in PostgreSQL.\n",
      "INFO:yahoo_records.curated_yahoo_data_ingester:EOD records loaded successfully.\n"
     ]
    }
   ],
   "source": [
    "# %run job_load_yahoo_data.py --job-name load_yahoo_stock_market_quotes"
   ]
  },
  {
   "cell_type": "code",
   "execution_count": null,
   "id": "23d8c35e-dd0e-4e08-917d-5c6aa1afa07d",
   "metadata": {},
   "outputs": [],
   "source": []
  },
  {
   "cell_type": "code",
   "execution_count": null,
   "id": "07c71b91-3953-4322-946b-8600c07bb070",
   "metadata": {},
   "outputs": [],
   "source": []
  }
 ],
 "metadata": {
  "kernelspec": {
   "display_name": "Poetry",
   "language": "python",
   "name": "poetry-kernel"
  },
  "language_info": {
   "codemirror_mode": {
    "name": "ipython",
    "version": 3
   },
   "file_extension": ".py",
   "mimetype": "text/x-python",
   "name": "python",
   "nbconvert_exporter": "python",
   "pygments_lexer": "ipython3",
   "version": "3.11.11"
  }
 },
 "nbformat": 4,
 "nbformat_minor": 5
}
