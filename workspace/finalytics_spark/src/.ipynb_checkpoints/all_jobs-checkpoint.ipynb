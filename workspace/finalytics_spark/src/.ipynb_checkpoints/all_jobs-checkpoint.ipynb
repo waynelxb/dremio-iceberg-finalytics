{
 "cells": [
  {
   "cell_type": "code",
   "execution_count": 1,
   "id": "9c772868-8151-4a22-8b0d-d2a47f8cc70a",
   "metadata": {},
   "outputs": [],
   "source": [
    "# %run job_execute_ingestion.py --job-name load_yahoo_stock_eod_quotes"
   ]
  },
  {
   "cell_type": "code",
   "execution_count": 2,
   "id": "7bb99bd8-9e9b-4e74-a201-20110d98db4c",
   "metadata": {},
   "outputs": [],
   "source": [
    "# %run job_execute_ingestion.py --job-name load_yahoo_etf_eod_quotes"
   ]
  },
  {
   "cell_type": "code",
   "execution_count": 8,
   "id": "9a56a453-50b3-462d-95d3-e601cc7ce0a9",
   "metadata": {},
   "outputs": [
    {
     "name": "stderr",
     "output_type": "stream",
     "text": [
      "INFO:__main__:Configuration file loaded successfully.\n",
      "INFO:__main__:Starting pipeline execution for job: load_yahoo_stock_market_quotes\n",
      "INFO:pipeline_executers.iceberg_ingestion_pipeline_executer:Fetching Yahoo EOD data from PostgreSQL...\n",
      "INFO:pipeline_executers.iceberg_ingestion_pipeline_executer:Fetched 5 records from PostgreSQL.\n",
      "INFO:pipeline_executers.iceberg_ingestion_pipeline_executer:Fetching Yahoo EOD data from Yahoo API...\n"
     ]
    },
    {
     "name": "stdout",
     "output_type": "stream",
     "text": [
      "Processing group 1/1 with 5 symbols...\n",
      "Retrieved 5 records for group 1/1.\n",
      "Sleeping for 3 seconds...\n"
     ]
    },
    {
     "name": "stderr",
     "output_type": "stream",
     "text": [
      "INFO:pipeline_executers.iceberg_ingestion_pipeline_executer:Ingesting data into Iceberg table 'nessie.raw.stock_market_yahoo'...\n",
      "INFO:destination_ingesters.iceberg_destination_ingester:Loading source data into nessie.raw.stock_market_yahoo...\n",
      "INFO:destination_ingesters.iceberg_destination_ingester:Loading data into Iceberg table: nessie.raw.stock_market_yahoo...\n"
     ]
    },
    {
     "name": "stdout",
     "output_type": "stream",
     "text": [
      "Iceberg table nessie.raw.stock_market_yahoo was truncated successfully.\n"
     ]
    },
    {
     "name": "stderr",
     "output_type": "stream",
     "text": [
      "INFO:destination_ingesters.iceberg_destination_ingester:nessie.raw.stock_market_yahoo was loaded successfully.\n",
      "INFO:destination_ingesters.iceberg_destination_ingester:Merging nessie.raw.stock_market_yahoo into fin table...\n",
      "INFO:destination_ingesters.iceberg_destination_ingester:EOD records loaded successfully.\n",
      "INFO:pipeline_executers.iceberg_ingestion_pipeline_executer:Data ingestion to Iceberg completed successfully.\n",
      "INFO:__main__:Pipeline execution completed successfully for job: load_yahoo_stock_market_quotes\n"
     ]
    },
    {
     "name": "stdout",
     "output_type": "stream",
     "text": [
      "nessie.raw.stock_market_yahoo was loaded with 5 records, totally 5 records.\n"
     ]
    }
   ],
   "source": [
    "%run job_execute_ingestion.py --job-name load_yahoo_stock_market_quotes"
   ]
  },
  {
   "cell_type": "code",
   "execution_count": null,
   "id": "b669bd99-40a0-4530-9873-281a8b86e095",
   "metadata": {},
   "outputs": [],
   "source": [
    "%run job_execute_ingestion.py --job-name load_yahoo_stock_profile"
   ]
  },
  {
   "cell_type": "code",
   "execution_count": 4,
   "id": "8d54421b-1939-4756-b50c-505623b23941",
   "metadata": {},
   "outputs": [],
   "source": [
    "# %run job_load_yahoo_data.py --job-name load_yahoo_stock_market_quotes"
   ]
  },
  {
   "cell_type": "code",
   "execution_count": 5,
   "id": "23d8c35e-dd0e-4e08-917d-5c6aa1afa07d",
   "metadata": {},
   "outputs": [],
   "source": [
    "# def get_raw_sa_symbols(source_file_path, delimiter) -> pd.DataFrame:\n",
    "#     try:\n",
    "#         # Read the data from a file\n",
    "#         panda_df = pd.read_csv(source_file_path, sep=delimiter, header=None)\n",
    "#         panda_df.columns = ['symbol', 'company_name', 'industry', 'market_cap']    \n",
    "#         panda_df.columns = ['symbol', 'assets', 'fund_name', 'asset_class']   \n",
    "#         return panda_df\n",
    "\n",
    "#     except Exception as e:\n",
    "#         print(f\"An error occurred: {e}\")\n",
    "#         traceback.print_exc()\n",
    "#         return pd.DataFrame()"
   ]
  },
  {
   "cell_type": "code",
   "execution_count": 6,
   "id": "07c71b91-3953-4322-946b-8600c07bb070",
   "metadata": {},
   "outputs": [],
   "source": [
    "\n",
    "\n",
    "# import pandas as pd\n",
    "\n",
    "# # Read the data from a file\n",
    "# panda_df = pd.read_csv('stock_analytics_etfs.txt', sep='\\t', header=None)\n",
    "# panda_df.columns = ['symbol', 'assets', 'fund_name', 'asset_class']  \n",
    "\n",
    "# print(panda_df)\n",
    "\n"
   ]
  },
  {
   "cell_type": "code",
   "execution_count": 7,
   "id": "c728c69e-0a1a-48d3-a1be-bb6aafb1157f",
   "metadata": {},
   "outputs": [],
   "source": [
    "# %run job_execute_ingestion.py --job-name load_yahoo_stock_eod_quotes"
   ]
  },
  {
   "cell_type": "code",
   "execution_count": null,
   "id": "6e8137f0-91bc-4853-b2a1-643f2b4484f5",
   "metadata": {},
   "outputs": [],
   "source": []
  },
  {
   "cell_type": "code",
   "execution_count": null,
   "id": "3f56c456-44b7-4396-b46d-73649cba3b3a",
   "metadata": {},
   "outputs": [],
   "source": []
  }
 ],
 "metadata": {
  "kernelspec": {
   "display_name": "Poetry",
   "language": "python",
   "name": "poetry-kernel"
  },
  "language_info": {
   "codemirror_mode": {
    "name": "ipython",
    "version": 3
   },
   "file_extension": ".py",
   "mimetype": "text/x-python",
   "name": "python",
   "nbconvert_exporter": "python",
   "pygments_lexer": "ipython3",
   "version": "3.11.11"
  }
 },
 "nbformat": 4,
 "nbformat_minor": 5
}
