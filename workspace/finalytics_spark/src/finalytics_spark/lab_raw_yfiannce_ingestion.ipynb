{
 "cells": [
  {
   "cell_type": "code",
   "execution_count": 1,
   "id": "bc71f1ce-97ce-4e88-a374-747acfc540fd",
   "metadata": {
    "tags": []
   },
   "outputs": [],
   "source": [
    "import os\n",
    "import yaml\n",
    "import nbimporter\n",
    "from datetime import datetime, date, timedelta\n",
    "import yfinance as yf\n",
    "import time\n",
    "import random\n",
    "import pyspark\n",
    "from pyspark.sql import SparkSession\n",
    "from pyspark.sql.types import StructType, StructField, IntegerType, StringType, DoubleType,  DateType, TimestampType\n",
    "from pyspark.sql.functions import to_date, to_timestamp\n",
    "from lab_database_manager import PgDBManager\n",
    "from lab_spark import create_spark_session\n",
    "from lab_schema_manager import SchemaManager"
   ]
  },
  {
   "cell_type": "code",
   "execution_count": 2,
   "id": "43f1668e-6c02-40a4-8d8b-4c1e522420fb",
   "metadata": {
    "tags": []
   },
   "outputs": [],
   "source": [
    "def fetch_yfinance_record(symbol_date_pairs):\n",
    "    try:\n",
    "        symbol, start_date = symbol_date_pairs\n",
    "        # Fetch stock data using yfinance\n",
    "        quote = yf.Ticker(symbol)\n",
    "        end_date = date.today() + timedelta(days=1)\n",
    "        hist = quote.history(start=start_date, end=end_date)\n",
    "\n",
    "        # Reset index to include Date as a column and format it\n",
    "        hist.reset_index(inplace=True)\n",
    "        hist[\"Date\"] = hist[\"Date\"].dt.date\n",
    "        \n",
    "        # limit and stablize the fields of hist\n",
    "        hist = hist[['Date', 'Open', 'High', 'Low', 'Close', 'Volume']]\n",
    "        \n",
    "        # Add symbol and import_time to each row\n",
    "        record_list = [\n",
    "            tuple(row) + (symbol, import_time) for row in hist.itertuples(index=False)\n",
    "        ]\n",
    "        random_sleep_time = random.uniform(0.1, 0.9)\n",
    "        time.sleep(random_sleep_time)\n",
    "\n",
    "        # print(record_list)\n",
    "        return record_list\n",
    "\n",
    "    except Exception as e:\n",
    "        print(f\"Error fetching data for {symbol}: {e}\")\n",
    "        return []  # Return an empty list on error"
   ]
  },
  {
   "cell_type": "code",
   "execution_count": 3,
   "id": "fa7a8628-9f57-478a-9ca5-5e500fceb7a6",
   "metadata": {
    "tags": []
   },
   "outputs": [],
   "source": [
    "def parallel_fetch_yfinance_record(symbol_date_pairs, record_schema):\n",
    "    try:\n",
    "        # Distribute (symbol, start_date) pairs across Spark workers\n",
    "        record_rdd = spark.sparkContext.parallelize(symbol_date_pairs)\n",
    "\n",
    "        \n",
    "        # Fetch data in parallel\n",
    "        mapped_record_rdd = record_rdd.flatMap(fetch_yfinance_record)\n",
    "\n",
    "        # Convert RDD to DataFrame\n",
    "        result_df = spark.createDataFrame(mapped_record_rdd, schema=record_schema)\n",
    "        # result_df = spark.createDataFrame(mapped_record_rdd)\n",
    "\n",
    "        # Show or save the results\n",
    "        # result_df.show()\n",
    "        return result_df\n",
    "    except Exception as e:\n",
    "        print(f\"Error paralleling fetch: {e}\")\n",
    "        return spark.createDataFrame([])"
   ]
  },
  {
   "cell_type": "code",
   "execution_count": 4,
   "id": "78b02da3-a584-4dbd-b44b-ccd3d5bbed1a",
   "metadata": {
    "tags": []
   },
   "outputs": [],
   "source": [
    "def load_iceberg_raw_eod_yfinance(symbol_date_pairs, iceberg_sink_table, schema_config_file):\n",
    "    try: \n",
    "        schema_manager=SchemaManager(schema_config_file)\n",
    "        schema_struct_type=schema_manager.get_struct_type(\"tables\", iceberg_sink_table)  \n",
    "        # print(schema_struct_type)\n",
    "        \n",
    "        create_table_script = schema_manager.get_create_table_query(\"tables\", iceberg_sink_table)\n",
    "        # print(create_table_script)\n",
    "        spark.sql(create_table_script)\n",
    "\n",
    "        df_source=parallel_fetch_yfinance_record(symbol_date_pairs, schema_struct_type)        \n",
    "        # df_source.writeTo(iceberg_sink_table).append()\n",
    "        df_source.write.mode(\"overwrite\").saveAsTable(iceberg_sink_table)    \n",
    "\n",
    "        print(f\"{iceberg_sink_table} has been loaded\")\n",
    "        \n",
    "    except Exception as e:\n",
    "        print(f\"Error loading lceberg raw table: {e}\")\n",
    "        "
   ]
  },
  {
   "cell_type": "code",
   "execution_count": 5,
   "id": "a2dff869-fe5d-4be5-8762-3ea44b8ce947",
   "metadata": {},
   "outputs": [],
   "source": [
    "def load_pg_finalytics(iceberg_source_table, jdbc_url, jdbc_properties, pg_sink_table, pg_truncate_script, pg_merge_script):   \n",
    "    try:     \n",
    "        df_source=spark.read.table(iceberg_source_table)          \n",
    "        finalytics.execute_sql_script(pg_truncate_script)\n",
    "        \n",
    "        # Write DataFrame to PostgreSQL\n",
    "        df_source.write.jdbc(url=jdbc_url, table=pg_sink_table, mode=\"append\", properties=jdbc_properties)        \n",
    "        finalytics.execute_sql_script(pg_merge_script)\n",
    "    except Exception as e:\n",
    "        print(f\"Error loading pg finalytics: {e}\")        \n"
   ]
  },
  {
   "cell_type": "markdown",
   "id": "519c3d0f-0086-4ca7-bb71-974aaedc0d9f",
   "metadata": {
    "tags": []
   },
   "source": [
    "## Load nessie.raw.stock_eod_yfinance"
   ]
  },
  {
   "cell_type": "code",
   "execution_count": 14,
   "id": "87ce60ae-b25b-44e2-a2a3-c33c05aa5172",
   "metadata": {
    "tags": []
   },
   "outputs": [
    {
     "name": "stdout",
     "output_type": "stream",
     "text": [
      "[('TSLA', '2024-12-20'), ('C', '2024-12-20'), ('SQSP', '2024-12-20')]\n"
     ]
    },
    {
     "name": "stderr",
     "output_type": "stream",
     "text": [
      "$SQSP: possibly delisted; no timezone found                         (2 + 2) / 4]\n",
      "Error fetching data for SQSP: Can only use .dt accessor with datetimelike values\n",
      "                                                                                "
     ]
    },
    {
     "name": "stdout",
     "output_type": "stream",
     "text": [
      "nessie.raw.stock_eod_yfinance has been loaded\n"
     ]
    }
   ],
   "source": [
    "symbol_start_date_pairs = [\n",
    "    ('TSLA', '2024-12-20'),\n",
    "    ('C', '2024-12-20'),\n",
    "    ('SQSP', '2024-12-20'),\n",
    "]\n",
    "\n",
    "# Get finalytics connetion info\n",
    "conn_config_file='cfg_connections.yaml'\n",
    "finalytics=PgDBManager(conn_config_file, 'finalytics')\n",
    "pg_jdbc_url=finalytics.jdbc_url\n",
    "pg_jdbc_properties=finalytics.jdbc_properties\n",
    "\n",
    "# Get symbol_start_date_pairs from finalytics\n",
    "# query=\"select symbol, start_date from fin.vw_etl_stock_eod_start_date limit 2\"\n",
    "# query=\"select symbol, start_date from fin.vw_etl_stock_eod_start_date\"\n",
    "# symbol_start_date_pairs=finalytics.get_sql_script_result_list(query)\n",
    "print(symbol_start_date_pairs)\n",
    "\n",
    "\n",
    "# Get iceberg table config info\n",
    "table_schema_config_file='cfg_schemas.yaml'\n",
    "iceberg_table='nessie.raw.stock_eod_yfinance'\n",
    "\n",
    "# Set global import_time\n",
    "import_time = datetime.now().isoformat()\n",
    "\n",
    "\n",
    "# Create Spark Session\n",
    "connection_config_file=\"cfg_connections.yaml\"\n",
    "spark_app_name=\"raw_yfinance\"\n",
    "spark=create_spark_session(connection_config_file, spark_app_name)\n",
    "spark.sql(\"CREATE NAMESPACE IF NOT EXISTS nessie.raw;\")\n",
    "\n",
    "\n",
    "# Load nessie.raw.stock_eod_yfinance \n",
    "load_iceberg_raw_eod_yfinance(symbol_start_date_pairs, iceberg_table, table_schema_config_file)\n"
   ]
  },
  {
   "cell_type": "markdown",
   "id": "c06a9dbb-80b6-49fb-8d87-d75e62c60416",
   "metadata": {},
   "source": [
    "## Load finalytics.stage.stock_eod_quote_yahoo and merge into fin.stock_eod_quote"
   ]
  },
  {
   "cell_type": "code",
   "execution_count": 15,
   "id": "7ff6a1d9-c5fa-4697-9b7b-b257048855eb",
   "metadata": {
    "tags": []
   },
   "outputs": [
    {
     "name": "stderr",
     "output_type": "stream",
     "text": [
      "                                                                                "
     ]
    }
   ],
   "source": [
    "pg_table = \"stage.stock_eod_quote_yahoo\"  # Replace with the PostgreSQL table name\n",
    "\n",
    "pg_truncate_script = f\"truncate table {pg_table};\"\n",
    "\n",
    "pg_merge_script = \"call fin.usp_load_stock_eod();\"\n",
    "\n",
    "load_pg_finalytics(iceberg_table, pg_jdbc_url, pg_jdbc_properties, pg_table,  pg_truncate_script, pg_merge_script)"
   ]
  },
  {
   "cell_type": "code",
   "execution_count": 16,
   "id": "c3904a34-d834-4d28-87b6-21f2b271fbb3",
   "metadata": {
    "tags": []
   },
   "outputs": [
    {
     "name": "stdout",
     "output_type": "stream",
     "text": [
      "+--------+\n",
      "|count(1)|\n",
      "+--------+\n",
      "|      26|\n",
      "+--------+\n",
      "\n"
     ]
    }
   ],
   "source": [
    "spark.sql(f'select count(*) from {iceberg_table}').show()"
   ]
  },
  {
   "cell_type": "code",
   "execution_count": 17,
   "id": "06376922-1939-4c55-bde2-0be33707d47a",
   "metadata": {
    "tags": []
   },
   "outputs": [
    {
     "name": "stdout",
     "output_type": "stream",
     "text": [
      "+----------+------+------+------+------+---------+------+--------------------------+\n",
      "|date      |open  |high  |low   |close |volume   |symbol|import_time               |\n",
      "+----------+------+------+------+------+---------+------+--------------------------+\n",
      "|2024-12-20|425.51|447.08|417.64|421.06|132216200|TSLA  |2025-01-12T00:12:18.458793|\n",
      "|2024-12-23|431.0 |434.51|415.41|430.6 |72698100 |TSLA  |2025-01-12T00:12:18.458793|\n",
      "|2024-12-24|435.9 |462.78|435.14|462.28|59551800 |TSLA  |2025-01-12T00:12:18.458793|\n",
      "|2024-12-26|465.16|465.33|451.02|454.13|76366400 |TSLA  |2025-01-12T00:12:18.458793|\n",
      "|2024-12-27|449.52|450.0 |426.5 |431.66|82666800 |TSLA  |2025-01-12T00:12:18.458793|\n",
      "|2024-12-30|419.4 |427.0 |415.75|417.41|64941000 |TSLA  |2025-01-12T00:12:18.458793|\n",
      "|2024-12-31|423.79|427.93|402.54|403.84|76825100 |TSLA  |2025-01-12T00:12:18.458793|\n",
      "|2025-01-02|390.1 |392.73|373.04|379.28|109710700|TSLA  |2025-01-12T00:12:18.458793|\n",
      "|2025-01-03|381.48|411.88|379.45|410.44|95423300 |TSLA  |2025-01-12T00:12:18.458793|\n",
      "|2025-01-06|423.2 |426.43|401.7 |411.05|85516500 |TSLA  |2025-01-12T00:12:18.458793|\n",
      "|2025-01-07|405.83|414.33|390.0 |394.36|75699500 |TSLA  |2025-01-12T00:12:18.458793|\n",
      "|2025-01-08|392.95|402.5 |387.4 |394.94|73038800 |TSLA  |2025-01-12T00:12:18.458793|\n",
      "|2025-01-10|391.4 |399.28|377.29|394.74|62127500 |TSLA  |2025-01-12T00:12:18.458793|\n",
      "|2024-12-20|68.29 |70.26 |68.03 |69.19 |27720100 |C     |2025-01-12T00:12:18.458793|\n",
      "|2024-12-23|69.36 |69.88 |68.87 |69.77 |8248000  |C     |2025-01-12T00:12:18.458793|\n",
      "|2024-12-24|70.1  |71.21 |69.94 |71.0  |6544900  |C     |2025-01-12T00:12:18.458793|\n",
      "|2024-12-26|70.54 |71.47 |70.51 |71.35 |6341700  |C     |2025-01-12T00:12:18.458793|\n",
      "|2024-12-27|70.86 |71.53 |70.54 |71.0  |7743100  |C     |2025-01-12T00:12:18.458793|\n",
      "|2024-12-30|70.18 |70.83 |69.79 |70.39 |6664400  |C     |2025-01-12T00:12:18.458793|\n",
      "|2024-12-31|70.55 |70.96 |70.15 |70.39 |6393000  |C     |2025-01-12T00:12:18.458793|\n",
      "+----------+------+------+------+------+---------+------+--------------------------+\n",
      "only showing top 20 rows\n",
      "\n"
     ]
    }
   ],
   "source": [
    "spark.sql('select * from nessie.raw.stock_eod_yfinance').show(truncate=False)"
   ]
  },
  {
   "cell_type": "code",
   "execution_count": 10,
   "id": "9a96c0a5-9315-4e5f-a4ed-6c717efd9a0b",
   "metadata": {},
   "outputs": [],
   "source": [
    "# print(symbol_start_date_pairs)"
   ]
  },
  {
   "cell_type": "code",
   "execution_count": 11,
   "id": "fef35cd0-02d5-45aa-9c49-e182de44137b",
   "metadata": {},
   "outputs": [],
   "source": [
    "# symbol=\"c\"\n",
    "# start_date =\"2024-1-1\"\n",
    "# # Fetch stock data using yfinance\n",
    "# quote = yf.Ticker(symbol)\n",
    "# current_date = date.today()\n",
    "# hist = quote.history(start=start_date, end=current_date)\n",
    "\n",
    "# # Reset index to include Date as a column and format it\n",
    "# hist.reset_index(inplace=True)\n",
    "# print(hist)\n",
    "# # hist[\"Date\"] = hist[\"Date\"].dt.date\n",
    "# # print(hist)\n",
    "\n",
    "# # # limit and stablize the fields of hist\n",
    "# # hist = hist[['Date', 'Open', 'High', 'Low', 'Close', 'Volume', 'Dividends', 'Stock Splits']]\n",
    "\n",
    "# # # Add symbol and import_time to each row\n",
    "# # record_list = [\n",
    "# #     tuple(row) + (symbol, import_time) for row in hist.itertuples(index=False)\n",
    "# # ]\n",
    "\n",
    "# # # print(record_list)\n",
    "# # print(record_list)"
   ]
  },
  {
   "cell_type": "code",
   "execution_count": null,
   "id": "ed854b11-963d-4b43-a6a6-beadd8f6bec7",
   "metadata": {},
   "outputs": [],
   "source": []
  },
  {
   "cell_type": "code",
   "execution_count": null,
   "id": "846344c0-a8ab-4043-a569-37951ea63a75",
   "metadata": {},
   "outputs": [],
   "source": []
  }
 ],
 "metadata": {
  "kernelspec": {
   "display_name": "Poetry",
   "language": "python",
   "name": "poetry-kernel"
  },
  "language_info": {
   "codemirror_mode": {
    "name": "ipython",
    "version": 3
   },
   "file_extension": ".py",
   "mimetype": "text/x-python",
   "name": "python",
   "nbconvert_exporter": "python",
   "pygments_lexer": "ipython3",
   "version": "3.10.12"
  }
 },
 "nbformat": 4,
 "nbformat_minor": 5
}
