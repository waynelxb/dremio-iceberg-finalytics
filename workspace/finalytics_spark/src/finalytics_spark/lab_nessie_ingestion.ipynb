{
 "cells": [
  {
   "cell_type": "code",
   "execution_count": 27,
   "id": "639ab335-35ed-4d00-9ce9-5d708b21672e",
   "metadata": {},
   "outputs": [],
   "source": [
    "import os\n",
    "import yaml\n",
    "import nbimporter\n",
    "import warnings\n",
    "import logging\n",
    "import pandas as pd\n",
    "from datetime import datetime, date\n",
    "import pyspark\n",
    "from pyspark.sql import SparkSession\n",
    "\n",
    "from lab_database_manager import PgDBManager\n",
    "from lab_schema_manager import SchemaManager\n",
    "from lab_raw_yahoo import get_raw_yahoo, get_raw_yahoo_by_looping_groups\n",
    "from lab_iceberg_manager import IcebergManager\n",
    "from lab_iceberg_pg_operator import IcebergPgOperator\n"
   ]
  },
  {
   "cell_type": "code",
   "execution_count": 28,
   "id": "5726a96e-4195-4679-bfe3-0e408dee728f",
   "metadata": {},
   "outputs": [],
   "source": [
    "equity_type=\"etf\""
   ]
  },
  {
   "cell_type": "markdown",
   "id": "fe8da080-d690-4d06-bb48-2d478d1f607b",
   "metadata": {},
   "source": [
    "# Get Finalytics Connetion and Create a PgDBManager"
   ]
  },
  {
   "cell_type": "code",
   "execution_count": 29,
   "id": "eaff5154-71fb-43e9-a8eb-70d0ab56a7af",
   "metadata": {},
   "outputs": [],
   "source": [
    "etl_start_time=datetime.now()\n",
    "# Get finalytics connetion info\n",
    "conn_config_file='cfg_connections.yaml'\n",
    "pg_db=\"finalytics\"\n",
    "pg_db_mgr=PgDBManager(conn_config_file, pg_db)\n",
    "pg_jdbc_url=pg_db_mgr.jdbc_url\n",
    "pg_jdbc_properties =pg_db_mgr.jdbc_properties"
   ]
  },
  {
   "cell_type": "markdown",
   "id": "2f50eae2-cdc0-4c4d-b673-31fc7b7637fd",
   "metadata": {},
   "source": [
    "### Get group_date_symbol_list from finalytics"
   ]
  },
  {
   "cell_type": "code",
   "execution_count": 30,
   "id": "18d8da5a-3751-4baf-a85e-7ecf813dbe1b",
   "metadata": {},
   "outputs": [],
   "source": [
    "# Get symbol_start_date_pairs from finalytics\n",
    "group_size=100\n",
    "query=f\"SELECT group_id, group_start_date, symbol  FROM fin.ufn_etl_get_grouped_{equity_type}_eod_start_date({group_size}) where group_id <5 \"\n",
    "query_result=pg_db_mgr.get_sql_script_result_list(query)"
   ]
  },
  {
   "cell_type": "code",
   "execution_count": 31,
   "id": "bfb717b5-c6d0-44ee-945a-040c0a0bc92a",
   "metadata": {},
   "outputs": [
    {
     "name": "stdout",
     "output_type": "stream",
     "text": [
      "400\n"
     ]
    }
   ],
   "source": [
    "print(len(query_result))"
   ]
  },
  {
   "cell_type": "markdown",
   "id": "efe9addc-5657-4ff5-ac30-2dcd14a23413",
   "metadata": {},
   "source": [
    "# Get Yahoo Hist Data"
   ]
  },
  {
   "cell_type": "code",
   "execution_count": 32,
   "id": "123067ab-f994-4de4-9f63-6cce3afca0df",
   "metadata": {},
   "outputs": [
    {
     "name": "stdout",
     "output_type": "stream",
     "text": [
      "Working on 1/4\n",
      "An error occurred: HTTPSConnectionPool(host='query2.finance.yahoo.com', port=443): Max retries exceeded with url: /v8/finance/chart/JKE?period1=1737676800&period2=1737936000&interval=1d&events=div%2Csplit&formatted=false&lang=en-US&region=US&corsDomain=finance.yahoo.com&crumb=wOvysY%2F41v. (Caused by ResponseError('too many 500 error responses'))\n",
      "0 records in 1/4.\n",
      "Sleeping for 2 seconds...\n",
      "Working on 2/4\n",
      "13514 records in 2/4.\n",
      "Sleeping for 2 seconds...\n",
      "Working on 3/4\n",
      "8279 records in 3/4.\n",
      "Sleeping for 2 seconds...\n",
      "Working on 4/4\n",
      "5684 records in 4/4.\n",
      "Sleeping for 5 seconds...\n"
     ]
    },
    {
     "name": "stderr",
     "output_type": "stream",
     "text": [
      "lab_raw_yahoo.ipynb:31: FutureWarning: The behavior of DataFrame concatenation with empty or all-NA entries is deprecated. In a future version, this will no longer exclude empty or all-NA columns when determining the result dtypes. To retain the old behavior, exclude the relevant entries before the concat operation.\n",
      "  \"            hist_data = hist_data.reset_index()\\n\",\n"
     ]
    }
   ],
   "source": [
    "import_time = datetime.now()\n",
    "yahoo_api=\"yahooquery\"\n",
    "hist_data=get_raw_yahoo_by_looping_groups(yahoo_api, query_result)\n",
    "hist_data[\"import_time\"] = pd.to_datetime(import_time).tz_localize(None)"
   ]
  },
  {
   "cell_type": "code",
   "execution_count": 33,
   "id": "18289228-f758-4f48-9228-c50749a413d9",
   "metadata": {},
   "outputs": [
    {
     "name": "stdout",
     "output_type": "stream",
     "text": [
      "27477\n"
     ]
    }
   ],
   "source": [
    "print(len(hist_data))"
   ]
  },
  {
   "cell_type": "markdown",
   "id": "92c6e49b-7443-465b-82ff-bb681e515dcd",
   "metadata": {},
   "source": [
    "# Create Spark Session"
   ]
  },
  {
   "cell_type": "code",
   "execution_count": 34,
   "id": "c72965cf-3f37-4fc3-a9d6-38d36b0b959c",
   "metadata": {},
   "outputs": [],
   "source": [
    "# Create Spark Session\n",
    "conn_config_file=\"cfg_connections.yaml\"\n",
    "schema_config_file='cfg_schemas.yaml'\n",
    "spark_app_name=\"raw_yfinance\"\n",
    "iceberg_raw_eod_table=f\"nessie.raw.{equity_type}_eod_yahoo\"\n",
    "my_iceberg_manager=IcebergManager(conn_config_file, schema_config_file, spark_app_name) \n",
    "my_spark_session = my_iceberg_manager.get_spark_session()"
   ]
  },
  {
   "cell_type": "markdown",
   "id": "688bee20-422b-4ce3-889c-9831722f5a1e",
   "metadata": {},
   "source": [
    "### Create namespaces"
   ]
  },
  {
   "cell_type": "code",
   "execution_count": 35,
   "id": "3e67f551-3f84-4de6-8610-72be29fba820",
   "metadata": {},
   "outputs": [
    {
     "data": {
      "text/plain": [
       "DataFrame[]"
      ]
     },
     "execution_count": 35,
     "metadata": {},
     "output_type": "execute_result"
    }
   ],
   "source": [
    "my_spark_session.sql(\"CREATE NAMESPACE IF NOT EXISTS nessie.raw;\")\n",
    "my_spark_session.sql(\"CREATE NAMESPACE IF NOT EXISTS nessie.fin;\")"
   ]
  },
  {
   "cell_type": "markdown",
   "id": "c42cc7c2-beb5-4efa-a05f-d6232ec8bdeb",
   "metadata": {},
   "source": [
    "### Load Iceberg Raw Table"
   ]
  },
  {
   "cell_type": "code",
   "execution_count": 36,
   "id": "363ae362-2a49-4cc1-bacb-e96a3ffabac6",
   "metadata": {},
   "outputs": [
    {
     "name": "stdout",
     "output_type": "stream",
     "text": [
      "Iceberg table nessie.raw.etf_eod_yahoo truncated successfully.\n"
     ]
    },
    {
     "name": "stderr",
     "output_type": "stream",
     "text": [
      "                                                                                "
     ]
    },
    {
     "name": "stdout",
     "output_type": "stream",
     "text": [
      "nessie.raw.etf_eod_yahoo was loaded with 27477 records, totally 27477 records.\n"
     ]
    }
   ],
   "source": [
    "\n",
    "# create spark data frame\n",
    "hist_df = my_spark_session.createDataFrame(hist_data)\n",
    "my_iceberg_manager.truncate_iceberg_table(iceberg_raw_eod_table)\n",
    "my_iceberg_manager.insert_into_iceberg_table(hist_df, iceberg_raw_eod_table)\n"
   ]
  },
  {
   "cell_type": "markdown",
   "id": "28104eba-f0d5-4cc6-a5a5-5a8615cf2359",
   "metadata": {},
   "source": [
    "# Load data from Iceberg to Pg with an IcebergPgOperator"
   ]
  },
  {
   "cell_type": "code",
   "execution_count": 37,
   "id": "22168854-440f-47aa-9be7-f0c13adef044",
   "metadata": {},
   "outputs": [
    {
     "name": "stderr",
     "output_type": "stream",
     "text": [
      "                                                                                "
     ]
    }
   ],
   "source": [
    "pg_table=f\"stage.{equity_type}_eod_quote_yahoo\"\n",
    "pg_truncate_script=f\"TRUNCATE TABLE {pg_table}\"\n",
    "pg_db_mgr.execute_sql_script(pg_truncate_script)\n",
    "\n",
    "my_iceberg_pg_operator=IcebergPgOperator(my_spark_session, pg_jdbc_url, pg_jdbc_properties)\n",
    "jdbc_mode=\"append\"\n",
    "my_iceberg_pg_operator.insert_iceberg_data_into_pg(iceberg_raw_eod_table, pg_table, jdbc_mode)\n"
   ]
  },
  {
   "cell_type": "markdown",
   "id": "9aabb9d5-34e2-44cc-a471-24e2cc9470c5",
   "metadata": {},
   "source": [
    "# Merge Pg stage into fin"
   ]
  },
  {
   "cell_type": "code",
   "execution_count": 38,
   "id": "6ebde675-0273-414f-a579-d548c1f5674b",
   "metadata": {},
   "outputs": [
    {
     "name": "stdout",
     "output_type": "stream",
     "text": [
      "An error occurred: syntax error at or near \"{\"\n",
      "LINE 1: call fin.usp_load_{equity_type}_eod();\n",
      "                          ^\n",
      "\n"
     ]
    }
   ],
   "source": [
    "pg_merge_script = \"call fin.usp_load_{equity_type}_eod();\"\n",
    "pg_db_mgr.execute_sql_script(pg_merge_script)"
   ]
  },
  {
   "cell_type": "code",
   "execution_count": 39,
   "id": "306a8a48-e885-4f80-b202-211837bf150d",
   "metadata": {},
   "outputs": [
    {
     "name": "stdout",
     "output_type": "stream",
     "text": [
      "0:01:00.138074\n"
     ]
    }
   ],
   "source": [
    "etl_end_time=datetime.now()\n",
    "delta_time = etl_end_time - etl_start_time\n",
    "print(delta_time)\n"
   ]
  },
  {
   "cell_type": "code",
   "execution_count": null,
   "id": "8fb24465-371b-4e67-b79f-c1dc2bf5e1da",
   "metadata": {},
   "outputs": [],
   "source": []
  }
 ],
 "metadata": {
  "kernelspec": {
   "display_name": "Poetry",
   "language": "python",
   "name": "poetry-kernel"
  },
  "language_info": {
   "codemirror_mode": {
    "name": "ipython",
    "version": 3
   },
   "file_extension": ".py",
   "mimetype": "text/x-python",
   "name": "python",
   "nbconvert_exporter": "python",
   "pygments_lexer": "ipython3",
   "version": "3.11.11"
  }
 },
 "nbformat": 4,
 "nbformat_minor": 5
}
