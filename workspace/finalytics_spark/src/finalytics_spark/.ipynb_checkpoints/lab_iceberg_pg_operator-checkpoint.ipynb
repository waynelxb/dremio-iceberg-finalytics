{
 "cells": [
  {
   "cell_type": "code",
   "execution_count": 3,
   "id": "886857c6-a0cf-4ac3-9307-fb23b2fc5a1f",
   "metadata": {},
   "outputs": [],
   "source": [
    "import nbimporter\n",
    "import pyspark\n",
    "from pyspark.sql import SparkSession\n",
    "\n",
    "class IcebergPgOperator:\n",
    "    def __init__(self, spark_session, jdbc_url, jdbc_properties):\n",
    "        self.spark_session = spark_session\n",
    "        self.jdbc_url=jdbc_url\n",
    "        self.jdbc_properties=jdbc_properties\n",
    "        \n",
    "    def insert_iceberg_data_into_pg(self, iceberg_source_table, pg_sink_table, mode):   \n",
    "        try:    \n",
    "            df_source=self.spark_session.read.table(iceberg_source_table)            \n",
    "            # Write DataFrame to PostgreSQL\n",
    "            df_source.write.jdbc(\n",
    "                url=self.jdbc_url,\n",
    "                table=pg_sink_table,\n",
    "                mode=mode,\n",
    "                properties=self.jdbc_properties\n",
    "            )            \n",
    "        except Exception as e:\n",
    "            print(f\"Error occured to insert_iceberg_data_into_pg: {e}\") "
   ]
  },
  {
   "cell_type": "code",
   "execution_count": null,
   "id": "f993ca71-e823-4dad-9571-d991edbc4cab",
   "metadata": {},
   "outputs": [],
   "source": []
  }
 ],
 "metadata": {
  "kernelspec": {
   "display_name": "Poetry",
   "language": "python",
   "name": "poetry-kernel"
  },
  "language_info": {
   "codemirror_mode": {
    "name": "ipython",
    "version": 3
   },
   "file_extension": ".py",
   "mimetype": "text/x-python",
   "name": "python",
   "nbconvert_exporter": "python",
   "pygments_lexer": "ipython3",
   "version": "3.10.12"
  }
 },
 "nbformat": 4,
 "nbformat_minor": 5
}
